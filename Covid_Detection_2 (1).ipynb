{
  "nbformat": 4,
  "nbformat_minor": 0,
  "metadata": {
    "accelerator": "GPU",
    "colab": {
      "name": "Covid Detection 2.ipynb",
      "provenance": [],
      "collapsed_sections": []
    },
    "kernelspec": {
      "display_name": "Python 3",
      "name": "python3"
    },
    "language_info": {
      "name": "python"
    }
  },
  "cells": [
    {
      "cell_type": "code",
      "metadata": {
        "colab": {
          "base_uri": "https://localhost:8080/"
        },
        "id": "-hBhOi-D_NJ3",
        "outputId": "a5f04556-ca65-4106-f9e6-e7972af8f280"
      },
      "source": [
        "from google.colab import drive\n",
        "drive.mount('/content/drive')"
      ],
      "execution_count": null,
      "outputs": [
        {
          "output_type": "stream",
          "name": "stdout",
          "text": [
            "Mounted at /content/drive\n"
          ]
        }
      ]
    },
    {
      "cell_type": "code",
      "metadata": {
        "id": "G60NeP7jGPbj"
      },
      "source": [
        "from keras.models import Model\n",
        "from keras.applications.vgg16 import VGG16\n",
        "from keras.applications.vgg16 import preprocess_input\n",
        "from keras.preprocessing import image\n",
        "from keras.preprocessing.image import ImageDataGenerator\n",
        "from keras.models import Sequential\n",
        "from keras.layers import Dense, Activation, Flatten\n",
        "import numpy as np\n",
        "from glob import glob\n",
        "import matplotlib.pyplot as plt\n"
      ],
      "execution_count": null,
      "outputs": []
    },
    {
      "cell_type": "code",
      "metadata": {
        "id": "ZCZSitP3H9OY"
      },
      "source": [
        "from tensorflow.compat.v1 import ConfigProto\n",
        "from tensorflow.compat.v1 import InteractiveSession\n",
        "\n",
        "config = ConfigProto()\n",
        "config.gpu_options.per_process_gpu_memory_fraction = 0.5\n",
        "config.gpu_options.allow_growth = True\n",
        "session = InteractiveSession(config=config)"
      ],
      "execution_count": null,
      "outputs": []
    },
    {
      "cell_type": "code",
      "metadata": {
        "colab": {
          "base_uri": "https://localhost:8080/"
        },
        "id": "pSuJbAUhH9RD",
        "outputId": "2dee7a6f-6e2d-4593-8b5e-a0be74919b87"
      },
      "source": [
        "import tensorflow as tf\n",
        "print(tf.__version__)"
      ],
      "execution_count": null,
      "outputs": [
        {
          "output_type": "stream",
          "name": "stdout",
          "text": [
            "2.6.0\n"
          ]
        }
      ]
    },
    {
      "cell_type": "code",
      "metadata": {
        "id": "OxdQDSzaH9V3"
      },
      "source": [
        "from tensorflow.keras.layers import Input, Lambda, Dense, Flatten\n",
        "from tensorflow.keras.models import Model\n",
        "from tensorflow.keras.applications.vgg16 import VGG16\n",
        "from tensorflow.keras.applications.vgg19 import VGG19\n",
        "from tensorflow.keras.preprocessing import image\n",
        "from tensorflow.keras.preprocessing.image import ImageDataGenerator,load_img\n",
        "from tensorflow.keras.models import Sequential\n",
        "import numpy as np\n",
        "from glob import glob\n",
        "#import matplotlib.pyplot as plt"
      ],
      "execution_count": null,
      "outputs": []
    },
    {
      "cell_type": "code",
      "metadata": {
        "id": "Hsr-7uGjH9Y8"
      },
      "source": [
        "IMAGE_SIZE = [224, 224]\n",
        "train_path = '/content/drive/MyDrive/train'\n",
        "valid_path = '/content/drive/MyDrive/test'"
      ],
      "execution_count": null,
      "outputs": []
    },
    {
      "cell_type": "code",
      "metadata": {
        "colab": {
          "base_uri": "https://localhost:8080/"
        },
        "id": "xESWqDzAH9ns",
        "outputId": "3980f2f3-9f73-47de-ff29-9b5927b8b521"
      },
      "source": [
        "# Import the VGG16 library as shown below and add preprocessing layer to the front of VGG\n",
        "# Here we will be using imagenet weights\n",
        "\n",
        "vgg16 = VGG16(input_shape=IMAGE_SIZE + [3], weights='imagenet', include_top=False)"
      ],
      "execution_count": null,
      "outputs": [
        {
          "output_type": "stream",
          "name": "stdout",
          "text": [
            "Downloading data from https://storage.googleapis.com/tensorflow/keras-applications/vgg16/vgg16_weights_tf_dim_ordering_tf_kernels_notop.h5\n",
            "58892288/58889256 [==============================] - 1s 0us/step\n",
            "58900480/58889256 [==============================] - 1s 0us/step\n"
          ]
        }
      ]
    },
    {
      "cell_type": "code",
      "metadata": {
        "id": "iJO7HIIFH9qv"
      },
      "source": [
        "# don't train existing weights\n",
        "for layer in vgg16.layers:\n",
        "    layer.trainable = False"
      ],
      "execution_count": null,
      "outputs": []
    },
    {
      "cell_type": "code",
      "metadata": {
        "id": "noaX0IFXH9uE"
      },
      "source": [
        "# useful for getting number of output classes\n",
        "folders = glob('/content/drive/MyDrive/train/*')"
      ],
      "execution_count": null,
      "outputs": []
    },
    {
      "cell_type": "code",
      "metadata": {
        "colab": {
          "base_uri": "https://localhost:8080/"
        },
        "id": "1Zw0QjrSH9w0",
        "outputId": "2dfb9f7b-f61e-4fa1-b1d4-4160f03b6eb5"
      },
      "source": [
        "folders"
      ],
      "execution_count": null,
      "outputs": [
        {
          "data": {
            "text/plain": [
              "['/content/drive/MyDrive/train/Pneumonia',\n",
              " '/content/drive/MyDrive/train/Covid-19',\n",
              " '/content/drive/MyDrive/train/No_findings']"
            ]
          },
          "execution_count": 13,
          "metadata": {},
          "output_type": "execute_result"
        }
      ]
    },
    {
      "cell_type": "code",
      "metadata": {
        "id": "KKUlocqiH9zZ"
      },
      "source": [
        "# our layers - you can add more if you want\n",
        "x = Flatten()(vgg16.output)\n"
      ],
      "execution_count": null,
      "outputs": []
    },
    {
      "cell_type": "code",
      "metadata": {
        "colab": {
          "base_uri": "https://localhost:8080/"
        },
        "id": "RCHEHQihS-N2",
        "outputId": "f2c0375b-c9ac-4a6e-c119-9b57dec7973b"
      },
      "source": [
        "len(folders)"
      ],
      "execution_count": null,
      "outputs": [
        {
          "output_type": "execute_result",
          "data": {
            "text/plain": [
              "3"
            ]
          },
          "metadata": {},
          "execution_count": 11
        }
      ]
    },
    {
      "cell_type": "code",
      "metadata": {
        "id": "jMA8YvFWS-RG"
      },
      "source": [
        "prediction = Dense(len(folders), activation='softmax')(x)\n",
        "\n",
        "# create a model object\n",
        "model = Model(inputs=vgg16.input, outputs=prediction)"
      ],
      "execution_count": null,
      "outputs": []
    },
    {
      "cell_type": "code",
      "metadata": {
        "colab": {
          "base_uri": "https://localhost:8080/"
        },
        "id": "xl9DbyxjS-VP",
        "outputId": "09d15093-90ae-4404-860d-458736f19a31"
      },
      "source": [
        "# view the structure of the model\n",
        "model.summary()"
      ],
      "execution_count": null,
      "outputs": [
        {
          "output_type": "stream",
          "name": "stdout",
          "text": [
            "Model: \"model\"\n",
            "_________________________________________________________________\n",
            "Layer (type)                 Output Shape              Param #   \n",
            "=================================================================\n",
            "input_1 (InputLayer)         [(None, 224, 224, 3)]     0         \n",
            "_________________________________________________________________\n",
            "block1_conv1 (Conv2D)        (None, 224, 224, 64)      1792      \n",
            "_________________________________________________________________\n",
            "block1_conv2 (Conv2D)        (None, 224, 224, 64)      36928     \n",
            "_________________________________________________________________\n",
            "block1_pool (MaxPooling2D)   (None, 112, 112, 64)      0         \n",
            "_________________________________________________________________\n",
            "block2_conv1 (Conv2D)        (None, 112, 112, 128)     73856     \n",
            "_________________________________________________________________\n",
            "block2_conv2 (Conv2D)        (None, 112, 112, 128)     147584    \n",
            "_________________________________________________________________\n",
            "block2_pool (MaxPooling2D)   (None, 56, 56, 128)       0         \n",
            "_________________________________________________________________\n",
            "block3_conv1 (Conv2D)        (None, 56, 56, 256)       295168    \n",
            "_________________________________________________________________\n",
            "block3_conv2 (Conv2D)        (None, 56, 56, 256)       590080    \n",
            "_________________________________________________________________\n",
            "block3_conv3 (Conv2D)        (None, 56, 56, 256)       590080    \n",
            "_________________________________________________________________\n",
            "block3_pool (MaxPooling2D)   (None, 28, 28, 256)       0         \n",
            "_________________________________________________________________\n",
            "block4_conv1 (Conv2D)        (None, 28, 28, 512)       1180160   \n",
            "_________________________________________________________________\n",
            "block4_conv2 (Conv2D)        (None, 28, 28, 512)       2359808   \n",
            "_________________________________________________________________\n",
            "block4_conv3 (Conv2D)        (None, 28, 28, 512)       2359808   \n",
            "_________________________________________________________________\n",
            "block4_pool (MaxPooling2D)   (None, 14, 14, 512)       0         \n",
            "_________________________________________________________________\n",
            "block5_conv1 (Conv2D)        (None, 14, 14, 512)       2359808   \n",
            "_________________________________________________________________\n",
            "block5_conv2 (Conv2D)        (None, 14, 14, 512)       2359808   \n",
            "_________________________________________________________________\n",
            "block5_conv3 (Conv2D)        (None, 14, 14, 512)       2359808   \n",
            "_________________________________________________________________\n",
            "block5_pool (MaxPooling2D)   (None, 7, 7, 512)         0         \n",
            "_________________________________________________________________\n",
            "flatten (Flatten)            (None, 25088)             0         \n",
            "_________________________________________________________________\n",
            "dense (Dense)                (None, 3)                 75267     \n",
            "=================================================================\n",
            "Total params: 14,789,955\n",
            "Trainable params: 75,267\n",
            "Non-trainable params: 14,714,688\n",
            "_________________________________________________________________\n"
          ]
        }
      ]
    },
    {
      "cell_type": "code",
      "metadata": {
        "id": "soSG23b2C45e"
      },
      "source": [
        "model.compile(\n",
        "  loss='categorical_crossentropy',\n",
        "  optimizer='adam',\n",
        "  metrics=['accuracy']\n",
        ")"
      ],
      "execution_count": null,
      "outputs": []
    },
    {
      "cell_type": "code",
      "metadata": {
        "id": "AzHrF5vBTIUN"
      },
      "source": [
        "train_datagen = image.ImageDataGenerator(\n",
        "rescale=1./255,\n",
        "shear_range= 0.2,\n",
        "zoom_range= 0.2,\n",
        "horizontal_flip = True,\n",
        ")\n",
        "test_dataset=image.ImageDataGenerator(rescale=1./255)"
      ],
      "execution_count": null,
      "outputs": []
    },
    {
      "cell_type": "code",
      "metadata": {
        "colab": {
          "base_uri": "https://localhost:8080/"
        },
        "id": "ktL3fLGtTIXd",
        "outputId": "834c3eaf-ba95-4176-ce83-3e321e8c4667"
      },
      "source": [
        "train_generator = train_datagen.flow_from_directory(\n",
        "    '/content/drive/MyDrive/train',\n",
        "    target_size=(224,224),\n",
        "    batch_size= 32,\n",
        "    class_mode= 'categorical')"
      ],
      "execution_count": null,
      "outputs": [
        {
          "output_type": "stream",
          "name": "stdout",
          "text": [
            "Found 967 images belonging to 3 classes.\n"
          ]
        }
      ]
    },
    {
      "cell_type": "code",
      "metadata": {
        "colab": {
          "base_uri": "https://localhost:8080/"
        },
        "id": "sIFJ12vWTIbL",
        "outputId": "609be83f-cbba-4dd1-eb86-7c42a70327dd"
      },
      "source": [
        "train_generator.class_indices"
      ],
      "execution_count": null,
      "outputs": [
        {
          "output_type": "execute_result",
          "data": {
            "text/plain": [
              "{'Covid-19': 0, 'No_findings': 1, 'Pneumonia': 2}"
            ]
          },
          "metadata": {},
          "execution_count": 17
        }
      ]
    },
    {
      "cell_type": "code",
      "metadata": {
        "colab": {
          "base_uri": "https://localhost:8080/"
        },
        "id": "7ZCp0NfnTIfK",
        "outputId": "eaf80fb0-9d67-4705-dc91-1540ef43fc58"
      },
      "source": [
        "validation_generator = test_dataset.flow_from_directory(\n",
        "        '/content/drive/MyDrive/test',\n",
        "        target_size=(224, 224),\n",
        "        batch_size=32,\n",
        "        class_mode='categorical')"
      ],
      "execution_count": null,
      "outputs": [
        {
          "output_type": "stream",
          "name": "stdout",
          "text": [
            "Found 158 images belonging to 3 classes.\n"
          ]
        }
      ]
    },
    {
      "cell_type": "code",
      "metadata": {
        "colab": {
          "base_uri": "https://localhost:8080/"
        },
        "id": "kw6xoZkaTdq_",
        "outputId": "f61a002f-d01a-4360-93a4-10804d28099d"
      },
      "source": [
        "hist = model.fit(\n",
        "  train_generator,\n",
        "  validation_data=validation_generator,\n",
        "  epochs=50,\n",
        "  steps_per_epoch=len(train_generator),\n",
        "  validation_steps=len(validation_generator)\n",
        ")"
      ],
      "execution_count": null,
      "outputs": [
        {
          "output_type": "stream",
          "name": "stdout",
          "text": [
            "Epoch 1/50\n",
            "31/31 [==============================] - 511s 15s/step - loss: 1.0703 - accuracy: 0.6153 - val_loss: 1.6088 - val_accuracy: 0.4494\n",
            "Epoch 2/50\n",
            "31/31 [==============================] - 34s 1s/step - loss: 0.5899 - accuracy: 0.7466 - val_loss: 0.9250 - val_accuracy: 0.5443\n",
            "Epoch 3/50\n",
            "31/31 [==============================] - 33s 1s/step - loss: 0.5040 - accuracy: 0.7622 - val_loss: 0.9918 - val_accuracy: 0.5696\n",
            "Epoch 4/50\n",
            "31/31 [==============================] - 33s 1s/step - loss: 0.4485 - accuracy: 0.8108 - val_loss: 0.7082 - val_accuracy: 0.6772\n",
            "Epoch 5/50\n",
            "31/31 [==============================] - 34s 1s/step - loss: 0.4010 - accuracy: 0.8304 - val_loss: 0.9432 - val_accuracy: 0.6076\n",
            "Epoch 6/50\n",
            "31/31 [==============================] - 34s 1s/step - loss: 0.4273 - accuracy: 0.8108 - val_loss: 0.6509 - val_accuracy: 0.7595\n",
            "Epoch 7/50\n",
            "31/31 [==============================] - 34s 1s/step - loss: 0.3880 - accuracy: 0.8304 - val_loss: 0.8617 - val_accuracy: 0.6076\n",
            "Epoch 8/50\n",
            "31/31 [==============================] - 34s 1s/step - loss: 0.3625 - accuracy: 0.8532 - val_loss: 0.8293 - val_accuracy: 0.6456\n",
            "Epoch 9/50\n",
            "31/31 [==============================] - 34s 1s/step - loss: 0.3083 - accuracy: 0.8790 - val_loss: 0.8442 - val_accuracy: 0.6582\n",
            "Epoch 10/50\n",
            "31/31 [==============================] - 34s 1s/step - loss: 0.3313 - accuracy: 0.8676 - val_loss: 1.2090 - val_accuracy: 0.5253\n",
            "Epoch 11/50\n",
            "31/31 [==============================] - 34s 1s/step - loss: 0.3213 - accuracy: 0.8728 - val_loss: 1.0279 - val_accuracy: 0.6203\n",
            "Epoch 12/50\n",
            "31/31 [==============================] - 34s 1s/step - loss: 0.2865 - accuracy: 0.8925 - val_loss: 0.8201 - val_accuracy: 0.6709\n",
            "Epoch 13/50\n",
            "31/31 [==============================] - 34s 1s/step - loss: 0.3038 - accuracy: 0.8738 - val_loss: 0.9222 - val_accuracy: 0.6582\n",
            "Epoch 14/50\n",
            "31/31 [==============================] - 34s 1s/step - loss: 0.2697 - accuracy: 0.8904 - val_loss: 0.7432 - val_accuracy: 0.7089\n",
            "Epoch 15/50\n",
            "31/31 [==============================] - 34s 1s/step - loss: 0.2497 - accuracy: 0.9028 - val_loss: 1.0129 - val_accuracy: 0.6392\n",
            "Epoch 16/50\n",
            "31/31 [==============================] - 34s 1s/step - loss: 0.2762 - accuracy: 0.8904 - val_loss: 1.1272 - val_accuracy: 0.6139\n",
            "Epoch 17/50\n",
            "31/31 [==============================] - 35s 1s/step - loss: 0.2466 - accuracy: 0.8966 - val_loss: 0.9543 - val_accuracy: 0.6772\n",
            "Epoch 18/50\n",
            "31/31 [==============================] - 35s 1s/step - loss: 0.2437 - accuracy: 0.8976 - val_loss: 0.7672 - val_accuracy: 0.7405\n",
            "Epoch 19/50\n",
            "31/31 [==============================] - 34s 1s/step - loss: 0.2538 - accuracy: 0.9007 - val_loss: 0.6429 - val_accuracy: 0.7658\n",
            "Epoch 20/50\n",
            "31/31 [==============================] - 34s 1s/step - loss: 0.2536 - accuracy: 0.8925 - val_loss: 1.0290 - val_accuracy: 0.6266\n",
            "Epoch 21/50\n",
            "31/31 [==============================] - 34s 1s/step - loss: 0.2243 - accuracy: 0.9049 - val_loss: 1.4667 - val_accuracy: 0.5190\n",
            "Epoch 22/50\n",
            "31/31 [==============================] - 34s 1s/step - loss: 0.2579 - accuracy: 0.9007 - val_loss: 0.8174 - val_accuracy: 0.7405\n",
            "Epoch 23/50\n",
            "31/31 [==============================] - 33s 1s/step - loss: 0.2101 - accuracy: 0.9162 - val_loss: 1.2404 - val_accuracy: 0.5886\n",
            "Epoch 24/50\n",
            "31/31 [==============================] - 33s 1s/step - loss: 0.2277 - accuracy: 0.9080 - val_loss: 0.9715 - val_accuracy: 0.6582\n",
            "Epoch 25/50\n",
            "31/31 [==============================] - 33s 1s/step - loss: 0.1836 - accuracy: 0.9317 - val_loss: 0.8436 - val_accuracy: 0.7215\n",
            "Epoch 26/50\n",
            "31/31 [==============================] - 33s 1s/step - loss: 0.1884 - accuracy: 0.9328 - val_loss: 1.2697 - val_accuracy: 0.6266\n",
            "Epoch 27/50\n",
            "31/31 [==============================] - 34s 1s/step - loss: 0.2136 - accuracy: 0.9235 - val_loss: 1.0032 - val_accuracy: 0.6899\n",
            "Epoch 28/50\n",
            "31/31 [==============================] - 33s 1s/step - loss: 0.1789 - accuracy: 0.9359 - val_loss: 1.0384 - val_accuracy: 0.6329\n",
            "Epoch 29/50\n",
            "31/31 [==============================] - 33s 1s/step - loss: 0.1598 - accuracy: 0.9421 - val_loss: 1.0017 - val_accuracy: 0.6456\n",
            "Epoch 30/50\n",
            "31/31 [==============================] - 33s 1s/step - loss: 0.1738 - accuracy: 0.9338 - val_loss: 1.2121 - val_accuracy: 0.6013\n",
            "Epoch 31/50\n",
            "31/31 [==============================] - 33s 1s/step - loss: 0.1791 - accuracy: 0.9338 - val_loss: 0.8106 - val_accuracy: 0.7405\n",
            "Epoch 32/50\n",
            "31/31 [==============================] - 33s 1s/step - loss: 0.1813 - accuracy: 0.9338 - val_loss: 0.8505 - val_accuracy: 0.7342\n",
            "Epoch 33/50\n",
            "31/31 [==============================] - 33s 1s/step - loss: 0.2025 - accuracy: 0.9183 - val_loss: 1.0940 - val_accuracy: 0.6519\n",
            "Epoch 34/50\n",
            "31/31 [==============================] - 33s 1s/step - loss: 0.1726 - accuracy: 0.9317 - val_loss: 0.7640 - val_accuracy: 0.7278\n",
            "Epoch 35/50\n",
            "31/31 [==============================] - 33s 1s/step - loss: 0.1690 - accuracy: 0.9317 - val_loss: 1.1390 - val_accuracy: 0.6519\n",
            "Epoch 36/50\n",
            "31/31 [==============================] - 34s 1s/step - loss: 0.1575 - accuracy: 0.9452 - val_loss: 1.3790 - val_accuracy: 0.5696\n",
            "Epoch 37/50\n",
            "31/31 [==============================] - 33s 1s/step - loss: 0.1684 - accuracy: 0.9400 - val_loss: 0.6587 - val_accuracy: 0.7532\n",
            "Epoch 38/50\n",
            "31/31 [==============================] - 33s 1s/step - loss: 0.1644 - accuracy: 0.9400 - val_loss: 1.2647 - val_accuracy: 0.6139\n",
            "Epoch 39/50\n",
            "31/31 [==============================] - 33s 1s/step - loss: 0.1471 - accuracy: 0.9555 - val_loss: 0.9180 - val_accuracy: 0.6772\n",
            "Epoch 40/50\n",
            "31/31 [==============================] - 33s 1s/step - loss: 0.1404 - accuracy: 0.9483 - val_loss: 0.8877 - val_accuracy: 0.7342\n",
            "Epoch 41/50\n",
            "31/31 [==============================] - 33s 1s/step - loss: 0.1688 - accuracy: 0.9421 - val_loss: 0.9926 - val_accuracy: 0.6646\n",
            "Epoch 42/50\n",
            "31/31 [==============================] - 33s 1s/step - loss: 0.1654 - accuracy: 0.9328 - val_loss: 0.8823 - val_accuracy: 0.7152\n",
            "Epoch 43/50\n",
            "31/31 [==============================] - 34s 1s/step - loss: 0.1464 - accuracy: 0.9431 - val_loss: 1.0251 - val_accuracy: 0.6709\n",
            "Epoch 44/50\n",
            "31/31 [==============================] - 33s 1s/step - loss: 0.1460 - accuracy: 0.9473 - val_loss: 1.1355 - val_accuracy: 0.6329\n",
            "Epoch 45/50\n",
            "31/31 [==============================] - 33s 1s/step - loss: 0.1287 - accuracy: 0.9617 - val_loss: 1.2679 - val_accuracy: 0.6076\n",
            "Epoch 46/50\n",
            "31/31 [==============================] - 33s 1s/step - loss: 0.1326 - accuracy: 0.9586 - val_loss: 1.1788 - val_accuracy: 0.6266\n",
            "Epoch 47/50\n",
            "31/31 [==============================] - 34s 1s/step - loss: 0.1267 - accuracy: 0.9648 - val_loss: 1.0537 - val_accuracy: 0.6772\n",
            "Epoch 48/50\n",
            "31/31 [==============================] - 34s 1s/step - loss: 0.1307 - accuracy: 0.9576 - val_loss: 0.9474 - val_accuracy: 0.6899\n",
            "Epoch 49/50\n",
            "31/31 [==============================] - 34s 1s/step - loss: 0.1442 - accuracy: 0.9462 - val_loss: 1.2784 - val_accuracy: 0.6203\n",
            "Epoch 50/50\n",
            "31/31 [==============================] - 34s 1s/step - loss: 0.1253 - accuracy: 0.9555 - val_loss: 1.0480 - val_accuracy: 0.6772\n"
          ]
        }
      ]
    },
    {
      "cell_type": "code",
      "metadata": {
        "id": "nBUP2jrWS-aF"
      },
      "source": [
        "import matplotlib.pyplot as plt\n"
      ],
      "execution_count": null,
      "outputs": []
    },
    {
      "cell_type": "code",
      "metadata": {
        "colab": {
          "base_uri": "https://localhost:8080/",
          "height": 283
        },
        "id": "wjpBRV9RS-h2",
        "outputId": "85b5472b-8bc6-45f7-b265-bffa839938f1"
      },
      "source": [
        "# plot the loss\n",
        "plt.plot(hist.history['loss'], label='train loss')\n",
        "plt.plot(hist.history['val_loss'], label='val loss')\n",
        "plt.legend()\n",
        "plt.show()\n",
        "plt.savefig('LossVal_loss')"
      ],
      "execution_count": null,
      "outputs": [
        {
          "output_type": "display_data",
          "data": {
            "image/png": "[encoded data removed]",
            "text/plain": [
              "<Figure size 432x288 with 1 Axes>"
            ]
          },
          "metadata": {
            "needs_background": "light"
          }
        },
        {
          "output_type": "display_data",
          "data": {
            "text/plain": [
              "<Figure size 432x288 with 0 Axes>"
            ]
          },
          "metadata": {}
        }
      ]
    },
    {
      "cell_type": "code",
      "metadata": {
        "colab": {
          "base_uri": "https://localhost:8080/",
          "height": 283
        },
        "id": "ClJFd49C29Vx",
        "outputId": "fa2637cb-e960-40a0-917e-7d25af602f4f"
      },
      "source": [
        "# plot the accuracy\n",
        "plt.plot(hist.history['accuracy'], label='train acc')\n",
        "plt.plot(hist.history['val_accuracy'], label='val acc')\n",
        "plt.legend()\n",
        "plt.show()\n",
        "plt.savefig('AccVal_acc')"
      ],
      "execution_count": null,
      "outputs": [
        {
          "output_type": "display_data",
          "data": {
            "image/png": "[encoded data removed]",
            "text/plain": [
              "<Figure size 432x288 with 1 Axes>"
            ]
          },
          "metadata": {
            "needs_background": "light"
          }
        },
        {
          "output_type": "display_data",
          "data": {
            "text/plain": [
              "<Figure size 432x288 with 0 Axes>"
            ]
          },
          "metadata": {}
        }
      ]
    },
    {
      "cell_type": "code",
      "metadata": {
        "id": "PX_n0tmBVps4"
      },
      "source": [
        "# save it as a h5 file\n",
        "\n",
        "\n",
        "from tensorflow.keras.models import load_model\n",
        "\n",
        "model.save('model_vgg16.h5')"
      ],
      "execution_count": null,
      "outputs": []
    },
    {
      "cell_type": "code",
      "metadata": {
        "id": "w1yX_osZVpw1"
      },
      "source": [
        "y_pred = model.predict(validation_generator)"
      ],
      "execution_count": null,
      "outputs": []
    },
    {
      "cell_type": "code",
      "metadata": {
        "colab": {
          "base_uri": "https://localhost:8080/"
        },
        "id": "1zB-xPGaVp0S",
        "outputId": "efe69c0c-0e06-471b-f441-c2b5f3df54e9"
      },
      "source": [
        "y_pred"
      ],
      "execution_count": null,
      "outputs": [
        {
          "output_type": "execute_result",
          "data": {
            "text/plain": [
              "array([[7.07810521e-01, 5.36236075e-06, 2.92184114e-01],\n",
              "       [1.36221031e-04, 3.18609402e-02, 9.68002856e-01],\n",
              "       [2.47090161e-01, 2.21401174e-02, 7.30769753e-01],\n",
              "       [6.97304858e-05, 3.38899910e-01, 6.61030412e-01],\n",
              "       [2.44394882e-09, 9.99403358e-01, 5.96589700e-04],\n",
              "       [2.20011702e-06, 3.25642852e-03, 9.96741354e-01],\n",
              "       [1.50014535e-01, 1.08133787e-02, 8.39172065e-01],\n",
              "       [2.54329279e-07, 4.45157457e-05, 9.99955177e-01],\n",
              "       [2.46941345e-04, 7.98705280e-01, 2.01047793e-01],\n",
              "       [3.87737742e-07, 1.53238652e-02, 9.84675705e-01],\n",
              "       [1.49745747e-01, 1.56563692e-04, 8.50097716e-01],\n",
              "       [2.37492118e-02, 4.58943099e-01, 5.17307699e-01],\n",
              "       [8.71486577e-07, 4.26743031e-01, 5.73256135e-01],\n",
              "       [4.68885899e-02, 7.37615764e-01, 2.15495691e-01],\n",
              "       [3.14729209e-06, 8.64421427e-02, 9.13554668e-01],\n",
              "       [1.30657369e-04, 9.90703225e-01, 9.16619878e-03],\n",
              "       [1.43735349e-04, 1.26925937e-03, 9.98587012e-01],\n",
              "       [9.99665856e-01, 1.08931410e-07, 3.33990232e-04],\n",
              "       [7.79556632e-01, 6.28977874e-03, 2.14153558e-01],\n",
              "       [8.53458107e-01, 1.69011820e-02, 1.29640758e-01],\n",
              "       [8.33116246e-06, 9.98899579e-01, 1.09202368e-03],\n",
              "       [1.01737551e-01, 6.89333379e-02, 8.29329073e-01],\n",
              "       [5.42489443e-06, 9.99058783e-01, 9.35703341e-04],\n",
              "       [2.70447288e-07, 9.97831166e-01, 2.16858182e-03],\n",
              "       [5.63821476e-03, 4.87930663e-02, 9.45568681e-01],\n",
              "       [9.22443628e-01, 1.57843623e-02, 6.17720522e-02],\n",
              "       [3.53987962e-05, 8.87056649e-01, 1.12907909e-01],\n",
              "       [4.08486194e-05, 1.85215455e-02, 9.81437564e-01],\n",
              "       [1.30068758e-04, 8.00319389e-02, 9.19838011e-01],\n",
              "       [3.07372538e-05, 4.39600497e-01, 5.60368717e-01],\n",
              "       [9.93061602e-01, 1.05623269e-06, 6.93733012e-03],\n",
              "       [4.29512233e-01, 2.03781710e-05, 5.70467412e-01],\n",
              "       [9.80489422e-03, 2.44874269e-01, 7.45320797e-01],\n",
              "       [1.54261070e-05, 4.99698520e-01, 5.00286102e-01],\n",
              "       [1.14754057e-02, 1.27048461e-05, 9.88511920e-01],\n",
              "       [7.85569355e-05, 9.49513495e-01, 5.04079647e-02],\n",
              "       [1.51824338e-06, 1.52304526e-02, 9.84768093e-01],\n",
              "       [1.87764480e-03, 5.08809984e-01, 4.89312351e-01],\n",
              "       [9.51897144e-01, 6.13858138e-05, 4.80414890e-02],\n",
              "       [2.23086554e-05, 3.30348946e-02, 9.66942847e-01],\n",
              "       [2.80606564e-05, 5.59080958e-01, 4.40890998e-01],\n",
              "       [5.98770748e-05, 6.14334941e-01, 3.85605156e-01],\n",
              "       [2.80766108e-04, 1.04855709e-02, 9.89233613e-01],\n",
              "       [5.86554170e-01, 5.09882942e-02, 3.62457603e-01],\n",
              "       [2.58157682e-03, 6.19023485e-05, 9.97356534e-01],\n",
              "       [2.45511089e-03, 5.96079886e-01, 4.01464969e-01],\n",
              "       [5.34374535e-01, 7.26127764e-04, 4.64899331e-01],\n",
              "       [1.67881764e-04, 8.07368338e-01, 1.92463830e-01],\n",
              "       [2.05791803e-05, 1.32200748e-01, 8.67778659e-01],\n",
              "       [1.10875349e-04, 6.26641214e-01, 3.73247951e-01],\n",
              "       [3.33889620e-05, 9.58725691e-01, 4.12409194e-02],\n",
              "       [2.58048880e-04, 7.18091833e-05, 9.99670148e-01],\n",
              "       [8.27833474e-01, 4.36806795e-06, 1.72162205e-01],\n",
              "       [2.06078283e-07, 9.81186152e-01, 1.88136064e-02],\n",
              "       [4.10243481e-01, 1.19487368e-01, 4.70269173e-01],\n",
              "       [2.22755349e-04, 1.52654737e-01, 8.47122431e-01],\n",
              "       [7.72357881e-01, 4.59562842e-04, 2.27182567e-01],\n",
              "       [1.88816084e-05, 4.85859346e-03, 9.95122492e-01],\n",
              "       [6.77945063e-05, 1.38059095e-01, 8.61873150e-01],\n",
              "       [2.75089387e-05, 1.77278034e-02, 9.82244670e-01],\n",
              "       [1.43526662e-02, 4.65050973e-02, 9.39142227e-01],\n",
              "       [3.31793904e-01, 1.37249925e-04, 6.68068886e-01],\n",
              "       [2.52071419e-04, 3.29362042e-02, 9.66811776e-01],\n",
              "       [5.53652465e-01, 1.59640258e-05, 4.46331590e-01],\n",
              "       [1.29804939e-01, 4.48681675e-02, 8.25326920e-01],\n",
              "       [1.95648113e-06, 2.33369187e-01, 7.66628861e-01],\n",
              "       [7.80312240e-01, 2.63966015e-03, 2.17048153e-01],\n",
              "       [3.71280805e-07, 9.97398615e-01, 2.60099396e-03],\n",
              "       [5.39015105e-04, 4.97742519e-02, 9.49686766e-01],\n",
              "       [8.63511741e-01, 1.37959811e-04, 1.36350378e-01],\n",
              "       [9.91302133e-01, 1.01928968e-07, 8.69774818e-03],\n",
              "       [4.55872978e-05, 9.30095315e-01, 6.98591471e-02],\n",
              "       [9.28156018e-01, 6.39430073e-05, 7.17800856e-02],\n",
              "       [4.92281833e-05, 6.38811849e-03, 9.93562698e-01],\n",
              "       [6.82965994e-01, 2.61118293e-01, 5.59157282e-02],\n",
              "       [6.98175490e-01, 2.89589116e-06, 3.01821589e-01],\n",
              "       [1.73367948e-06, 7.45109677e-01, 2.54888535e-01],\n",
              "       [6.99186348e-04, 3.93965602e-01, 6.05335176e-01],\n",
              "       [1.38010670e-04, 8.49027574e-01, 1.50834411e-01],\n",
              "       [1.18374368e-02, 8.90177011e-01, 9.79855657e-02],\n",
              "       [8.77580242e-05, 5.19886196e-01, 4.80026037e-01],\n",
              "       [5.01717567e-01, 1.66161626e-03, 4.96620834e-01],\n",
              "       [8.37445352e-03, 7.96892047e-02, 9.11936343e-01],\n",
              "       [3.06119263e-01, 1.40394887e-03, 6.92476809e-01],\n",
              "       [1.12106704e-06, 8.11830387e-02, 9.18815792e-01],\n",
              "       [3.00292987e-02, 4.61178971e-03, 9.65358913e-01],\n",
              "       [9.73525226e-01, 7.76149752e-03, 1.87132768e-02],\n",
              "       [7.44995816e-07, 9.93598461e-01, 6.40082313e-03],\n",
              "       [1.28013689e-05, 8.94973099e-01, 1.05014130e-01],\n",
              "       [5.30882971e-05, 9.81863081e-01, 1.80838276e-02],\n",
              "       [5.75734556e-01, 4.57614735e-02, 3.78503978e-01],\n",
              "       [1.00486104e-04, 6.71979964e-01, 3.27919543e-01],\n",
              "       [4.73946379e-03, 4.11152105e-05, 9.95219409e-01],\n",
              "       [1.52249033e-10, 9.99076724e-01, 9.23296844e-04],\n",
              "       [6.17367477e-05, 9.77800131e-01, 2.21380536e-02],\n",
              "       [5.52113626e-08, 9.85682070e-01, 1.43179391e-02],\n",
              "       [6.86208409e-07, 7.26065993e-01, 2.73933321e-01],\n",
              "       [4.68175767e-06, 1.06533160e-02, 9.89341974e-01],\n",
              "       [9.97920096e-01, 9.63229104e-06, 2.07028072e-03],\n",
              "       [9.51040804e-01, 8.80413518e-06, 4.89503033e-02],\n",
              "       [1.95271913e-02, 2.06412435e-01, 7.74060428e-01],\n",
              "       [1.43991245e-04, 2.98241198e-01, 7.01614857e-01],\n",
              "       [6.76342607e-01, 2.45236531e-02, 2.99133748e-01],\n",
              "       [2.52502680e-01, 1.46390361e-04, 7.47350991e-01],\n",
              "       [9.88881366e-05, 6.26020372e-01, 3.73880774e-01],\n",
              "       [6.51126015e-08, 2.87027122e-03, 9.97129738e-01],\n",
              "       [9.19375658e-01, 1.11833207e-04, 8.05125087e-02],\n",
              "       [4.14313370e-04, 2.04973683e-01, 7.94612050e-01],\n",
              "       [1.08286722e-05, 5.30490419e-04, 9.99458730e-01],\n",
              "       [7.00014482e-07, 3.61920208e-01, 6.38079107e-01],\n",
              "       [4.25617964e-06, 9.66770516e-04, 9.99029040e-01],\n",
              "       [9.98393238e-01, 7.46982187e-05, 1.53203937e-03],\n",
              "       [3.97738768e-04, 9.78565753e-01, 2.10365187e-02],\n",
              "       [6.59389887e-03, 1.56508274e-02, 9.77755249e-01],\n",
              "       [3.92117627e-09, 9.93725836e-01, 6.27420936e-03],\n",
              "       [7.33616048e-08, 4.03896868e-01, 5.96103072e-01],\n",
              "       [1.65382158e-02, 6.52586532e-05, 9.83396471e-01],\n",
              "       [9.31317925e-01, 2.05489993e-03, 6.66271374e-02],\n",
              "       [9.97820258e-01, 2.93200264e-05, 2.15044827e-03],\n",
              "       [3.45628679e-04, 5.36992788e-01, 4.62661594e-01],\n",
              "       [1.81281264e-03, 5.69538653e-01, 4.28648502e-01],\n",
              "       [7.29242992e-03, 1.00384199e-03, 9.91703749e-01],\n",
              "       [2.57501488e-05, 5.27480908e-04, 9.99446809e-01],\n",
              "       [2.08747606e-05, 9.75760911e-03, 9.90221500e-01],\n",
              "       [2.88048028e-07, 3.45158461e-03, 9.96548116e-01],\n",
              "       [1.76346689e-01, 2.92960694e-03, 8.20723712e-01],\n",
              "       [7.21963525e-01, 4.28452418e-04, 2.77608067e-01],\n",
              "       [1.86723582e-06, 9.99195516e-01, 8.02600465e-04],\n",
              "       [4.16546106e-01, 5.33295097e-04, 5.82920611e-01],\n",
              "       [6.40158296e-01, 1.51550228e-06, 3.59840184e-01],\n",
              "       [1.11089692e-04, 6.20846264e-03, 9.93680477e-01],\n",
              "       [1.91167828e-06, 9.66534257e-01, 3.34637351e-02],\n",
              "       [9.40392937e-08, 9.74877775e-01, 2.51220893e-02],\n",
              "       [3.31674492e-08, 4.00390927e-05, 9.99959946e-01],\n",
              "       [9.94409025e-01, 3.21631123e-05, 5.55883860e-03],\n",
              "       [8.38357925e-01, 1.48916664e-02, 1.46750361e-01],\n",
              "       [9.20512466e-05, 8.97977233e-01, 1.01930670e-01],\n",
              "       [7.28499666e-02, 4.64750938e-02, 8.80674899e-01],\n",
              "       [1.99894239e-05, 2.30802540e-02, 9.76899743e-01],\n",
              "       [4.96746497e-06, 3.91360190e-05, 9.99955893e-01],\n",
              "       [2.30672956e-01, 4.20347461e-03, 7.65123546e-01],\n",
              "       [7.82999507e-07, 1.60836846e-01, 8.39162409e-01],\n",
              "       [3.24262830e-04, 5.86097658e-01, 4.13578153e-01],\n",
              "       [2.88770079e-05, 1.30956993e-01, 8.69014084e-01],\n",
              "       [9.89945471e-01, 1.37404977e-05, 1.00407815e-02],\n",
              "       [4.60803631e-06, 9.93787646e-01, 6.20776461e-03],\n",
              "       [6.88237833e-07, 5.20292111e-03, 9.94796455e-01],\n",
              "       [2.17040046e-03, 3.35238688e-02, 9.64305699e-01],\n",
              "       [9.85253632e-01, 3.83362749e-05, 1.47081017e-02],\n",
              "       [1.23208240e-02, 8.43122959e-01, 1.44556269e-01],\n",
              "       [1.35740174e-06, 9.99478519e-01, 5.20184520e-04],\n",
              "       [3.37544709e-01, 1.89050511e-02, 6.43550277e-01],\n",
              "       [5.95727801e-01, 6.55856624e-04, 4.03616369e-01],\n",
              "       [2.02253645e-07, 9.90875959e-01, 9.12378542e-03],\n",
              "       [1.28426022e-04, 3.71140032e-03, 9.96160150e-01],\n",
              "       [4.41058218e-01, 2.54757213e-03, 5.56394219e-01],\n",
              "       [9.28749561e-01, 8.94145109e-03, 6.23089671e-02],\n",
              "       [3.31320018e-02, 1.18998374e-04, 9.66749012e-01]], dtype=float32)"
            ]
          },
          "metadata": {},
          "execution_count": 25
        }
      ]
    },
    {
      "cell_type": "code",
      "metadata": {
        "id": "gZ2hSuigVp31"
      },
      "source": [
        "import numpy as np\n",
        "y_pred = np.argmax(y_pred, axis=1)"
      ],
      "execution_count": null,
      "outputs": []
    },
    {
      "cell_type": "code",
      "metadata": {
        "colab": {
          "base_uri": "https://localhost:8080/"
        },
        "id": "e9QUB89cS-kA",
        "outputId": "ff74a1f3-8e38-4d6e-80c8-d777d2f5ee62"
      },
      "source": [
        "y_pred"
      ],
      "execution_count": null,
      "outputs": [
        {
          "output_type": "execute_result",
          "data": {
            "text/plain": [
              "array([0, 2, 2, 2, 1, 2, 2, 2, 1, 2, 2, 2, 2, 1, 2, 1, 2, 0, 0, 0, 1, 2,\n",
              "       1, 1, 2, 0, 1, 2, 2, 2, 0, 2, 2, 2, 2, 1, 2, 1, 0, 2, 1, 1, 2, 0,\n",
              "       2, 1, 0, 1, 2, 1, 1, 2, 0, 1, 2, 2, 0, 2, 2, 2, 2, 2, 2, 0, 2, 2,\n",
              "       0, 1, 2, 0, 0, 1, 0, 2, 0, 0, 1, 2, 1, 1, 1, 0, 2, 2, 2, 2, 0, 1,\n",
              "       1, 1, 0, 1, 2, 1, 1, 1, 1, 2, 0, 0, 2, 2, 0, 2, 1, 2, 0, 2, 2, 2,\n",
              "       2, 0, 1, 2, 1, 2, 2, 0, 0, 1, 1, 2, 2, 2, 2, 2, 0, 1, 2, 0, 2, 1,\n",
              "       1, 2, 0, 0, 1, 2, 2, 2, 2, 2, 1, 2, 0, 1, 2, 2, 0, 1, 1, 2, 0, 1,\n",
              "       2, 2, 0, 2])"
            ]
          },
          "metadata": {},
          "execution_count": 27
        }
      ]
    },
    {
      "cell_type": "code",
      "metadata": {
        "id": "M1pGppaAXi35"
      },
      "source": [
        "label = validation_generator.classes"
      ],
      "execution_count": null,
      "outputs": []
    },
    {
      "cell_type": "code",
      "metadata": {
        "colab": {
          "base_uri": "https://localhost:8080/"
        },
        "id": "RFRX_sSdSy4U",
        "outputId": "ebc7b9b2-bd60-4887-ffdb-4aee3725bf11"
      },
      "source": [
        "from sklearn.metrics import confusion_matrix\n",
        "\n",
        "cf = confusion_matrix(y_pred,label)\n",
        "cf"
      ],
      "execution_count": null,
      "outputs": [
        {
          "output_type": "execute_result",
          "data": {
            "text/plain": [
              "array([[13, 12, 11],\n",
              "       [18, 14, 13],\n",
              "       [37, 14, 26]])"
            ]
          },
          "metadata": {},
          "execution_count": 29
        }
      ]
    },
    {
      "cell_type": "code",
      "metadata": {
        "colab": {
          "base_uri": "https://localhost:8080/",
          "height": 204
        },
        "id": "9nrGgCVkSy_q",
        "outputId": "7c135fa8-c682-4cba-b537-9103b61e5d8a"
      },
      "source": [
        "import pandas as pd\n",
        "exp_series = pd.Series(label)\n",
        "pred_series = pd.Series(y_pred)\n",
        "pd.crosstab(exp_series, pred_series, rownames=['Actual'], colnames=['Predicted'],margins=True)"
      ],
      "execution_count": null,
      "outputs": [
        {
          "output_type": "execute_result",
          "data": {
            "text/html": [
              "<div>\n",
              "<style scoped>\n",
              "    .dataframe tbody tr th:only-of-type {\n",
              "        vertical-align: middle;\n",
              "    }\n",
              "\n",
              "    .dataframe tbody tr th {\n",
              "        vertical-align: top;\n",
              "    }\n",
              "\n",
              "    .dataframe thead th {\n",
              "        text-align: right;\n",
              "    }\n",
              "</style>\n",
              "<table border=\"1\" class=\"dataframe\">\n",
              "  <thead>\n",
              "    <tr style=\"text-align: right;\">\n",
              "      <th>Predicted</th>\n",
              "      <th>0</th>\n",
              "      <th>1</th>\n",
              "      <th>2</th>\n",
              "      <th>All</th>\n",
              "    </tr>\n",
              "    <tr>\n",
              "      <th>Actual</th>\n",
              "      <th></th>\n",
              "      <th></th>\n",
              "      <th></th>\n",
              "      <th></th>\n",
              "    </tr>\n",
              "  </thead>\n",
              "  <tbody>\n",
              "    <tr>\n",
              "      <th>0</th>\n",
              "      <td>13</td>\n",
              "      <td>18</td>\n",
              "      <td>37</td>\n",
              "      <td>68</td>\n",
              "    </tr>\n",
              "    <tr>\n",
              "      <th>1</th>\n",
              "      <td>12</td>\n",
              "      <td>14</td>\n",
              "      <td>14</td>\n",
              "      <td>40</td>\n",
              "    </tr>\n",
              "    <tr>\n",
              "      <th>2</th>\n",
              "      <td>11</td>\n",
              "      <td>13</td>\n",
              "      <td>26</td>\n",
              "      <td>50</td>\n",
              "    </tr>\n",
              "    <tr>\n",
              "      <th>All</th>\n",
              "      <td>36</td>\n",
              "      <td>45</td>\n",
              "      <td>77</td>\n",
              "      <td>158</td>\n",
              "    </tr>\n",
              "  </tbody>\n",
              "</table>\n",
              "</div>"
            ],
            "text/plain": [
              "Predicted   0   1   2  All\n",
              "Actual                    \n",
              "0          13  18  37   68\n",
              "1          12  14  14   40\n",
              "2          11  13  26   50\n",
              "All        36  45  77  158"
            ]
          },
          "metadata": {},
          "execution_count": 30
        }
      ]
    },
    {
      "cell_type": "code",
      "metadata": {
        "colab": {
          "base_uri": "https://localhost:8080/",
          "height": 257
        },
        "id": "RyeGSChJSzDV",
        "outputId": "810df11f-5816-447f-f512-9329c6ee886e"
      },
      "source": [
        "plt.matshow(cf)\n",
        "plt.title('Confusion Matrix Plot')\n",
        "plt.colorbar()\n",
        "plt.xlabel('Predicted')\n",
        "plt.ylabel('Actual')\n",
        "plt.show();"
      ],
      "execution_count": null,
      "outputs": [
        {
          "output_type": "display_data",
          "data": {
            "image/png": "[encoded data removed]",
            "text/plain": [
              "<Figure size 288x288 with 2 Axes>"
            ]
          },
          "metadata": {
            "needs_background": "light"
          }
        }
      ]
    },
    {
      "cell_type": "code",
      "metadata": {
        "id": "tlasL8rstg2F"
      },
      "source": [
        "import numpy as np\n",
        "\n",
        "\n",
        "def plot_confusion_matrix(cm,\n",
        "                          target_names,\n",
        "                          title='Confusion matrix',\n",
        "                          cmap=None,\n",
        "                          normalize=True):\n",
        "    \n",
        "    import matplotlib.pyplot as plt\n",
        "    import numpy as np\n",
        "    import itertools\n",
        "\n",
        "    accuracy = np.trace(cm) / float(np.sum(cm))\n",
        "    misclass = 1 - accuracy\n",
        "\n",
        "    if cmap is None:\n",
        "        cmap = plt.get_cmap('Blues')\n",
        "\n",
        "    plt.figure(figsize=(8, 6))\n",
        "    plt.imshow(cm, interpolation='nearest', cmap=cmap)\n",
        "    plt.title(title)\n",
        "    plt.colorbar()\n",
        "\n",
        "    if target_names is not None:\n",
        "        tick_marks = np.arange(len(target_names))\n",
        "        plt.xticks(tick_marks, target_names, rotation=45)\n",
        "        plt.yticks(tick_marks, target_names)\n",
        "\n",
        "    if normalize:\n",
        "        cm = cm.astype('float') / cm.sum(axis=1)[:, np.newaxis]\n",
        "\n",
        "\n",
        "    thresh = cm.max() / 1.5 if normalize else cm.max() / 2\n",
        "    for i, j in itertools.product(range(cm.shape[0]), range(cm.shape[1])):\n",
        "        if normalize:\n",
        "            plt.text(j, i, \"{:0.4f}\".format(cm[i, j]),\n",
        "                     horizontalalignment=\"center\",\n",
        "                     color=\"white\" if cm[i, j] > thresh else \"black\")\n",
        "        else:\n",
        "            plt.text(j, i, \"{:,}\".format(cm[i, j]),\n",
        "                     horizontalalignment=\"center\",\n",
        "                     color=\"white\" if cm[i, j] > thresh else \"black\")\n",
        "\n",
        "\n",
        "    plt.tight_layout()\n",
        "    plt.ylabel('True label')\n",
        "    plt.xlabel('Predicted label\\naccuracy={:0.4f}; misclass={:0.4f}'.format(accuracy, misclass))\n",
        "    plt.show()"
      ],
      "execution_count": null,
      "outputs": []
    },
    {
      "cell_type": "code",
      "metadata": {
        "colab": {
          "base_uri": "https://localhost:8080/",
          "height": 467
        },
        "id": "fyIag_Cku4JF",
        "outputId": "63f5974b-5b0b-4e64-ebdc-805e77529a9e"
      },
      "source": [
        "plot_confusion_matrix(cm           = np.array([[ 17,  3,   16],\n",
        "                                              [  18,  15,  15],\n",
        "                                              [  33,  22, 19]]), \n",
        "                      normalize    = False,\n",
        "                      target_names = ['Covid-19', 'No_findings', 'Pneumonia'],\n",
        "                      title        = \"Confusion Matrix\")"
      ],
      "execution_count": null,
      "outputs": [
        {
          "data": {
            "image/png": "[encoded data removed]",
            "text/plain": [
              "<Figure size 576x432 with 2 Axes>"
            ]
          },
          "metadata": {},
          "output_type": "display_data"
        }
      ]
    },
    {
      "cell_type": "code",
      "metadata": {
        "colab": {
          "base_uri": "https://localhost:8080/"
        },
        "id": "H8nox1D9SzG7",
        "outputId": "785ad104-2493-4e83-8a79-376f0c0651fb"
      },
      "source": [
        "from sklearn.metrics import confusion_matrix\n",
        "confusion_matrix(y_pred,label)"
      ],
      "execution_count": null,
      "outputs": [
        {
          "output_type": "execute_result",
          "data": {
            "text/plain": [
              "array([[13, 12, 11],\n",
              "       [18, 14, 13],\n",
              "       [37, 14, 26]])"
            ]
          },
          "metadata": {},
          "execution_count": 33
        }
      ]
    },
    {
      "cell_type": "code",
      "metadata": {
        "colab": {
          "base_uri": "https://localhost:8080/"
        },
        "id": "ECYlstS_SzKW",
        "outputId": "fd757976-4c51-40cb-ca53-cca45f4e2b9b"
      },
      "source": [
        "from sklearn.metrics import accuracy_score\n",
        "accuracy_score(y_pred,label)"
      ],
      "execution_count": null,
      "outputs": [
        {
          "output_type": "execute_result",
          "data": {
            "text/plain": [
              "0.33544303797468356"
            ]
          },
          "metadata": {},
          "execution_count": 34
        }
      ]
    },
    {
      "cell_type": "code",
      "metadata": {
        "colab": {
          "base_uri": "https://localhost:8080/"
        },
        "id": "3JecINm4SzOu",
        "outputId": "6376e16a-d661-4bc6-aa13-bc10efda1ab2"
      },
      "source": [
        "from sklearn.metrics import recall_score\n",
        "recall_score(y_pred, label, average=None)"
      ],
      "execution_count": null,
      "outputs": [
        {
          "output_type": "execute_result",
          "data": {
            "text/plain": [
              "array([0.36111111, 0.31111111, 0.33766234])"
            ]
          },
          "metadata": {},
          "execution_count": 35
        }
      ]
    },
    {
      "cell_type": "code",
      "metadata": {
        "colab": {
          "base_uri": "https://localhost:8080/"
        },
        "id": "v8rBisrYSzS5",
        "outputId": "8d3d4d7b-a8f3-4370-e5f9-d44dcfafd603"
      },
      "source": [
        "from sklearn.metrics import precision_score\n",
        "precision_score(y_pred, label, average=None)"
      ],
      "execution_count": null,
      "outputs": [
        {
          "output_type": "execute_result",
          "data": {
            "text/plain": [
              "array([0.19117647, 0.35      , 0.52      ])"
            ]
          },
          "metadata": {},
          "execution_count": 36
        }
      ]
    },
    {
      "cell_type": "code",
      "metadata": {
        "colab": {
          "base_uri": "https://localhost:8080/"
        },
        "id": "trbA50csSzYN",
        "outputId": "d6ff5d3a-36b8-44da-8ddd-6d9e521bfb07"
      },
      "source": [
        "from sklearn.metrics import f1_score\n",
        "f1_score(y_pred, label, average=None)"
      ],
      "execution_count": null,
      "outputs": [
        {
          "output_type": "execute_result",
          "data": {
            "text/plain": [
              "array([0.25      , 0.32941176, 0.40944882])"
            ]
          },
          "metadata": {},
          "execution_count": 37
        }
      ]
    },
    {
      "cell_type": "code",
      "metadata": {
        "colab": {
          "base_uri": "https://localhost:8080/"
        },
        "id": "M8lDdvgWSzjt",
        "outputId": "a08e554c-df6f-4c83-d8c6-c154dce23062"
      },
      "source": [
        "from sklearn.metrics import classification_report\n",
        "print(classification_report(y_pred, label))"
      ],
      "execution_count": null,
      "outputs": [
        {
          "output_type": "stream",
          "name": "stdout",
          "text": [
            "              precision    recall  f1-score   support\n",
            "\n",
            "           0       0.19      0.36      0.25        36\n",
            "           1       0.35      0.31      0.33        45\n",
            "           2       0.52      0.34      0.41        77\n",
            "\n",
            "    accuracy                           0.34       158\n",
            "   macro avg       0.35      0.34      0.33       158\n",
            "weighted avg       0.40      0.34      0.35       158\n",
            "\n"
          ]
        }
      ]
    },
    {
      "cell_type": "code",
      "metadata": {
        "id": "R9Y7kTOm6mis"
      },
      "source": [
        "from sklearn.model_selection import train_test_split\n",
        "#\n",
        "# Create training and test split\n",
        "#\n",
        "X_train, X_test, y_train, y_test = train_test_split(X, y, test_size=0.30, random_state=1, stratify=y)"
      ],
      "execution_count": null,
      "outputs": []
    },
    {
      "cell_type": "code",
      "metadata": {
        "colab": {
          "base_uri": "https://localhost:8080/",
          "height": 358
        },
        "id": "IV1lzcIW3Av-",
        "outputId": "7c530a6a-8757-40d0-a126-9c68e8266052"
      },
      "source": [
        "from sklearn.preprocessing import StandardScaler\n",
        "from sklearn.svm import SVC\n",
        "from sklearn.metrics import confusion_matrix\n",
        "from sklearn.metrics import precision_score, recall_score, f1_score, accuracy_score\n",
        "import matplotlib.pyplot as plt\n",
        "#\n",
        "# Standardize the data set\n",
        "#\n",
        "sc = StandardScaler()\n",
        "sc.fit(X_train)\n",
        "X_train_std = sc.transform(X_train)\n",
        "X_test_std = sc.transform(X_test)\n",
        "#\n",
        "# Fit the SVC model\n",
        "#\n",
        "svc = SVC(kernel='linear', C=10.0, random_state=1)\n",
        "svc.fit(X_train, y_train)\n",
        "#\n",
        "# Get the predictions\n",
        "#\n",
        "y_pred = svc.predict(X_test)\n",
        "#\n",
        "# Calculate the confusion matrix\n",
        "#\n",
        "conf_matrix = confusion_matrix(y_true=y_test, y_pred=y_pred)\n",
        "#\n",
        "# Print the confusion matrix using Matplotlib\n",
        "#\n",
        "fig, ax = plt.subplots(figsize=(5, 5))\n",
        "ax.matshow(conf_matrix, cmap=plt.cm.Oranges, alpha=0.3)\n",
        "for i in range(conf_matrix.shape[0]):\n",
        "    for j in range(conf_matrix.shape[1]):\n",
        "        ax.text(x=j, y=i,s=conf_matrix[i, j], va='center', ha='center', size='xx-large')\n",
        " \n",
        "plt.xlabel('Predictions', fontsize=18)\n",
        "plt.ylabel('Actuals', fontsize=18)\n",
        "plt.title('Confusion Matrix', fontsize=18)\n",
        "plt.show()"
      ],
      "execution_count": null,
      "outputs": [
        {
          "output_type": "display_data",
          "data": {
            "image/png": "[encoded data removed]",
            "text/plain": [
              "<Figure size 360x360 with 1 Axes>"
            ]
          },
          "metadata": {
            "needs_background": "light"
          }
        }
      ]
    },
    {
      "cell_type": "code",
      "metadata": {
        "colab": {
          "base_uri": "https://localhost:8080/"
        },
        "id": "6LHoQJ7W3Ar-",
        "outputId": "bea4eaae-10c1-42b3-c6e4-1e1d54554af2"
      },
      "source": [
        "print('Precision: %.3f' % precision_score(y_test, y_pred))"
      ],
      "execution_count": null,
      "outputs": [
        {
          "output_type": "stream",
          "name": "stdout",
          "text": [
            "Precision: 0.485\n"
          ]
        }
      ]
    },
    {
      "cell_type": "code",
      "metadata": {
        "colab": {
          "base_uri": "https://localhost:8080/"
        },
        "id": "5lPbWsuE3Am1",
        "outputId": "4b494848-5089-4ffd-a221-824d1272db9f"
      },
      "source": [
        "print('Recall: %.3f' % recall_score(y_test, y_pred))"
      ],
      "execution_count": null,
      "outputs": [
        {
          "output_type": "stream",
          "name": "stdout",
          "text": [
            "Recall: 0.547\n"
          ]
        }
      ]
    },
    {
      "cell_type": "code",
      "metadata": {
        "colab": {
          "base_uri": "https://localhost:8080/"
        },
        "id": "n5nVU3yT3AhO",
        "outputId": "149d86d7-cf5e-4260-8a64-7f0983d3bb2f"
      },
      "source": [
        "print('Accuracy: %.3f' % accuracy_score(y_test, y_pred))"
      ],
      "execution_count": null,
      "outputs": [
        {
          "output_type": "stream",
          "name": "stdout",
          "text": [
            "Accuracy: 0.483\n"
          ]
        }
      ]
    },
    {
      "cell_type": "code",
      "metadata": {
        "id": "zHCF6ydA6zod",
        "outputId": "08768243-bc66-4ea7-c684-5c4156a181e3",
        "colab": {
          "base_uri": "https://localhost:8080/"
        }
      },
      "source": [
        "print('F1 Score: %.3f' % f1_score(y_test, y_pred))"
      ],
      "execution_count": null,
      "outputs": [
        {
          "output_type": "stream",
          "name": "stdout",
          "text": [
            "F1 Score: 0.514\n"
          ]
        }
      ]
    }
  ]
}