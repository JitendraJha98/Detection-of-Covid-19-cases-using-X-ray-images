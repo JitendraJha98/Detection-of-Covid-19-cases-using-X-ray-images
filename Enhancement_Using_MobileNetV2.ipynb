{
  "nbformat": 4,
  "nbformat_minor": 0,
  "metadata": {
    "colab": {
      "name": "Enhancement_Using_MobileNetV2.ipynb",
      "provenance": [],
      "collapsed_sections": []
    },
    "kernelspec": {
      "name": "python3",
      "display_name": "Python 3"
    },
    "language_info": {
      "name": "python"
    },
    "accelerator": "GPU"
  },
  "cells": [
    {
      "cell_type": "code",
      "metadata": {
        "id": "63ApP9Bank8x"
      },
      "source": [
        "from keras.models import Model\n",
        "from tensorflow.keras.applications.mobilenet_v2 import MobileNetV2\n",
        "from tensorflow.keras.applications.mobilenet_v2 import preprocess_input\n",
        "from keras.preprocessing import image\n",
        "from keras.preprocessing.image import ImageDataGenerator\n",
        "from keras.models import Sequential\n",
        "from keras.layers import Dense, Activation, Flatten\n",
        "import numpy as np\n",
        "from glob import glob\n",
        "import matplotlib.pyplot as plt"
      ],
      "execution_count": null,
      "outputs": []
    },
    {
      "cell_type": "code",
      "metadata": {
        "colab": {
          "base_uri": "https://localhost:8080/"
        },
        "id": "2qjO2eTbnyJ8",
        "outputId": "89a8b138-8bfe-4695-d0eb-9e494e3a3b5d"
      },
      "source": [
        "from google.colab import drive\n",
        "drive.mount('/content/drive')"
      ],
      "execution_count": null,
      "outputs": [
        {
          "output_type": "stream",
          "name": "stdout",
          "text": [
            "Mounted at /content/drive\n"
          ]
        }
      ]
    },
    {
      "cell_type": "code",
      "metadata": {
        "id": "skRlo18snyRD"
      },
      "source": [
        "from tensorflow.compat.v1 import ConfigProto\n",
        "from tensorflow.compat.v1 import InteractiveSession\n",
        "\n",
        "config = ConfigProto()\n",
        "config.gpu_options.per_process_gpu_memory_fraction = 0.5\n",
        "config.gpu_options.allow_growth = True\n",
        "session = InteractiveSession(config=config)"
      ],
      "execution_count": null,
      "outputs": []
    },
    {
      "cell_type": "code",
      "metadata": {
        "colab": {
          "base_uri": "https://localhost:8080/"
        },
        "id": "Kq9Z6saRnyV9",
        "outputId": "a7216909-cfa8-4f03-fb36-52d5713680eb"
      },
      "source": [
        "import tensorflow as tf\n",
        "print(tf.__version__)"
      ],
      "execution_count": null,
      "outputs": [
        {
          "output_type": "stream",
          "name": "stdout",
          "text": [
            "2.6.0\n"
          ]
        }
      ]
    },
    {
      "cell_type": "code",
      "metadata": {
        "id": "-mEJkX3Anyab"
      },
      "source": [
        "from tensorflow.keras.layers import Input, Lambda, Dense, Flatten\n",
        "from tensorflow.keras.models import Model\n",
        "from tensorflow.keras.applications import MobileNetV2\n",
        "from tensorflow.keras.preprocessing import image\n",
        "from tensorflow.keras.preprocessing.image import ImageDataGenerator,load_img\n",
        "from tensorflow.keras.models import Sequential\n",
        "import numpy as np\n",
        "from glob import glob\n",
        "#import matplotlib.pyplot as plt"
      ],
      "execution_count": null,
      "outputs": []
    },
    {
      "cell_type": "code",
      "metadata": {
        "id": "XN2ZAkIPnqKb"
      },
      "source": [
        "IMAGE_SIZE = [224, 224]\n",
        "train_path = '/content/drive/MyDrive/train'\n",
        "valid_path = '/content/drive/MyDrive/test'"
      ],
      "execution_count": null,
      "outputs": []
    },
    {
      "cell_type": "code",
      "metadata": {
        "colab": {
          "base_uri": "https://localhost:8080/"
        },
        "id": "FGqP3wsbnqNT",
        "outputId": "d9c077de-5d19-4f59-a635-3cafd829dbf5"
      },
      "source": [
        "# Import the VGG16 library as shown below and add preprocessing layer to the front of VGG\n",
        "# Here we will be using imagenet weights\n",
        "\n",
        "mobilenet_v2 = MobileNetV2(input_shape=IMAGE_SIZE + [3], weights='imagenet', include_top=False)"
      ],
      "execution_count": null,
      "outputs": [
        {
          "output_type": "stream",
          "name": "stdout",
          "text": [
            "Downloading data from https://storage.googleapis.com/tensorflow/keras-applications/mobilenet_v2/mobilenet_v2_weights_tf_dim_ordering_tf_kernels_1.0_224_no_top.h5\n",
            "9412608/9406464 [==============================] - 0s 0us/step\n",
            "9420800/9406464 [==============================] - 0s 0us/step\n"
          ]
        }
      ]
    },
    {
      "cell_type": "code",
      "metadata": {
        "id": "hpfhjPi7nqQM"
      },
      "source": [
        "# don't train existing weights\n",
        "for layer in mobilenet_v2.layers:\n",
        "    layer.trainable = False"
      ],
      "execution_count": null,
      "outputs": []
    },
    {
      "cell_type": "code",
      "metadata": {
        "id": "F9yBTBtooY79"
      },
      "source": [
        "# useful for getting number of output classes\n",
        "folders = glob('/content/drive/MyDrive/train/*')"
      ],
      "execution_count": null,
      "outputs": []
    },
    {
      "cell_type": "code",
      "metadata": {
        "colab": {
          "base_uri": "https://localhost:8080/"
        },
        "id": "m_g7PfdtoY_H",
        "outputId": "34292569-d08e-4030-de3f-60fa750486e9"
      },
      "source": [
        "folders"
      ],
      "execution_count": null,
      "outputs": [
        {
          "output_type": "execute_result",
          "data": {
            "text/plain": [
              "['/content/drive/MyDrive/train/Pneumonia',\n",
              " '/content/drive/MyDrive/train/Covid-19',\n",
              " '/content/drive/MyDrive/train/No_findings']"
            ]
          },
          "metadata": {},
          "execution_count": 11
        }
      ]
    },
    {
      "cell_type": "code",
      "metadata": {
        "id": "3iU8Z7GvoZCD"
      },
      "source": [
        "# our layers - you can add more if you want\n",
        "x = Flatten()(mobilenet_v2.output)\n"
      ],
      "execution_count": null,
      "outputs": []
    },
    {
      "cell_type": "code",
      "metadata": {
        "colab": {
          "base_uri": "https://localhost:8080/"
        },
        "id": "nexnJg6PoZFG",
        "outputId": "ef32792d-84f6-43a8-d803-96f62597307c"
      },
      "source": [
        "len(folders)"
      ],
      "execution_count": null,
      "outputs": [
        {
          "output_type": "execute_result",
          "data": {
            "text/plain": [
              "3"
            ]
          },
          "metadata": {},
          "execution_count": 13
        }
      ]
    },
    {
      "cell_type": "code",
      "metadata": {
        "id": "3K0XVhyboZIF"
      },
      "source": [
        "prediction = Dense(len(folders), activation='softmax')(x)\n",
        "\n",
        "# create a model object\n",
        "model = Model(inputs=mobilenet_v2.input, outputs=prediction)"
      ],
      "execution_count": null,
      "outputs": []
    },
    {
      "cell_type": "code",
      "metadata": {
        "colab": {
          "base_uri": "https://localhost:8080/"
        },
        "id": "c4Yu1ckFoZLE",
        "outputId": "a7a831c1-ad90-4de4-c970-2bddf5dc5747"
      },
      "source": [
        "# view the structure of the model\n",
        "model.summary()"
      ],
      "execution_count": null,
      "outputs": [
        {
          "output_type": "stream",
          "name": "stdout",
          "text": [
            "Model: \"model\"\n",
            "__________________________________________________________________________________________________\n",
            "Layer (type)                    Output Shape         Param #     Connected to                     \n",
            "==================================================================================================\n",
            "input_1 (InputLayer)            [(None, 224, 224, 3) 0                                            \n",
            "__________________________________________________________________________________________________\n",
            "Conv1 (Conv2D)                  (None, 112, 112, 32) 864         input_1[0][0]                    \n",
            "__________________________________________________________________________________________________\n",
            "bn_Conv1 (BatchNormalization)   (None, 112, 112, 32) 128         Conv1[0][0]                      \n",
            "__________________________________________________________________________________________________\n",
            "Conv1_relu (ReLU)               (None, 112, 112, 32) 0           bn_Conv1[0][0]                   \n",
            "__________________________________________________________________________________________________\n",
            "expanded_conv_depthwise (Depthw (None, 112, 112, 32) 288         Conv1_relu[0][0]                 \n",
            "__________________________________________________________________________________________________\n",
            "expanded_conv_depthwise_BN (Bat (None, 112, 112, 32) 128         expanded_conv_depthwise[0][0]    \n",
            "__________________________________________________________________________________________________\n",
            "expanded_conv_depthwise_relu (R (None, 112, 112, 32) 0           expanded_conv_depthwise_BN[0][0] \n",
            "__________________________________________________________________________________________________\n",
            "expanded_conv_project (Conv2D)  (None, 112, 112, 16) 512         expanded_conv_depthwise_relu[0][0\n",
            "__________________________________________________________________________________________________\n",
            "expanded_conv_project_BN (Batch (None, 112, 112, 16) 64          expanded_conv_project[0][0]      \n",
            "__________________________________________________________________________________________________\n",
            "block_1_expand (Conv2D)         (None, 112, 112, 96) 1536        expanded_conv_project_BN[0][0]   \n",
            "__________________________________________________________________________________________________\n",
            "block_1_expand_BN (BatchNormali (None, 112, 112, 96) 384         block_1_expand[0][0]             \n",
            "__________________________________________________________________________________________________\n",
            "block_1_expand_relu (ReLU)      (None, 112, 112, 96) 0           block_1_expand_BN[0][0]          \n",
            "__________________________________________________________________________________________________\n",
            "block_1_pad (ZeroPadding2D)     (None, 113, 113, 96) 0           block_1_expand_relu[0][0]        \n",
            "__________________________________________________________________________________________________\n",
            "block_1_depthwise (DepthwiseCon (None, 56, 56, 96)   864         block_1_pad[0][0]                \n",
            "__________________________________________________________________________________________________\n",
            "block_1_depthwise_BN (BatchNorm (None, 56, 56, 96)   384         block_1_depthwise[0][0]          \n",
            "__________________________________________________________________________________________________\n",
            "block_1_depthwise_relu (ReLU)   (None, 56, 56, 96)   0           block_1_depthwise_BN[0][0]       \n",
            "__________________________________________________________________________________________________\n",
            "block_1_project (Conv2D)        (None, 56, 56, 24)   2304        block_1_depthwise_relu[0][0]     \n",
            "__________________________________________________________________________________________________\n",
            "block_1_project_BN (BatchNormal (None, 56, 56, 24)   96          block_1_project[0][0]            \n",
            "__________________________________________________________________________________________________\n",
            "block_2_expand (Conv2D)         (None, 56, 56, 144)  3456        block_1_project_BN[0][0]         \n",
            "__________________________________________________________________________________________________\n",
            "block_2_expand_BN (BatchNormali (None, 56, 56, 144)  576         block_2_expand[0][0]             \n",
            "__________________________________________________________________________________________________\n",
            "block_2_expand_relu (ReLU)      (None, 56, 56, 144)  0           block_2_expand_BN[0][0]          \n",
            "__________________________________________________________________________________________________\n",
            "block_2_depthwise (DepthwiseCon (None, 56, 56, 144)  1296        block_2_expand_relu[0][0]        \n",
            "__________________________________________________________________________________________________\n",
            "block_2_depthwise_BN (BatchNorm (None, 56, 56, 144)  576         block_2_depthwise[0][0]          \n",
            "__________________________________________________________________________________________________\n",
            "block_2_depthwise_relu (ReLU)   (None, 56, 56, 144)  0           block_2_depthwise_BN[0][0]       \n",
            "__________________________________________________________________________________________________\n",
            "block_2_project (Conv2D)        (None, 56, 56, 24)   3456        block_2_depthwise_relu[0][0]     \n",
            "__________________________________________________________________________________________________\n",
            "block_2_project_BN (BatchNormal (None, 56, 56, 24)   96          block_2_project[0][0]            \n",
            "__________________________________________________________________________________________________\n",
            "block_2_add (Add)               (None, 56, 56, 24)   0           block_1_project_BN[0][0]         \n",
            "                                                                 block_2_project_BN[0][0]         \n",
            "__________________________________________________________________________________________________\n",
            "block_3_expand (Conv2D)         (None, 56, 56, 144)  3456        block_2_add[0][0]                \n",
            "__________________________________________________________________________________________________\n",
            "block_3_expand_BN (BatchNormali (None, 56, 56, 144)  576         block_3_expand[0][0]             \n",
            "__________________________________________________________________________________________________\n",
            "block_3_expand_relu (ReLU)      (None, 56, 56, 144)  0           block_3_expand_BN[0][0]          \n",
            "__________________________________________________________________________________________________\n",
            "block_3_pad (ZeroPadding2D)     (None, 57, 57, 144)  0           block_3_expand_relu[0][0]        \n",
            "__________________________________________________________________________________________________\n",
            "block_3_depthwise (DepthwiseCon (None, 28, 28, 144)  1296        block_3_pad[0][0]                \n",
            "__________________________________________________________________________________________________\n",
            "block_3_depthwise_BN (BatchNorm (None, 28, 28, 144)  576         block_3_depthwise[0][0]          \n",
            "__________________________________________________________________________________________________\n",
            "block_3_depthwise_relu (ReLU)   (None, 28, 28, 144)  0           block_3_depthwise_BN[0][0]       \n",
            "__________________________________________________________________________________________________\n",
            "block_3_project (Conv2D)        (None, 28, 28, 32)   4608        block_3_depthwise_relu[0][0]     \n",
            "__________________________________________________________________________________________________\n",
            "block_3_project_BN (BatchNormal (None, 28, 28, 32)   128         block_3_project[0][0]            \n",
            "__________________________________________________________________________________________________\n",
            "block_4_expand (Conv2D)         (None, 28, 28, 192)  6144        block_3_project_BN[0][0]         \n",
            "__________________________________________________________________________________________________\n",
            "block_4_expand_BN (BatchNormali (None, 28, 28, 192)  768         block_4_expand[0][0]             \n",
            "__________________________________________________________________________________________________\n",
            "block_4_expand_relu (ReLU)      (None, 28, 28, 192)  0           block_4_expand_BN[0][0]          \n",
            "__________________________________________________________________________________________________\n",
            "block_4_depthwise (DepthwiseCon (None, 28, 28, 192)  1728        block_4_expand_relu[0][0]        \n",
            "__________________________________________________________________________________________________\n",
            "block_4_depthwise_BN (BatchNorm (None, 28, 28, 192)  768         block_4_depthwise[0][0]          \n",
            "__________________________________________________________________________________________________\n",
            "block_4_depthwise_relu (ReLU)   (None, 28, 28, 192)  0           block_4_depthwise_BN[0][0]       \n",
            "__________________________________________________________________________________________________\n",
            "block_4_project (Conv2D)        (None, 28, 28, 32)   6144        block_4_depthwise_relu[0][0]     \n",
            "__________________________________________________________________________________________________\n",
            "block_4_project_BN (BatchNormal (None, 28, 28, 32)   128         block_4_project[0][0]            \n",
            "__________________________________________________________________________________________________\n",
            "block_4_add (Add)               (None, 28, 28, 32)   0           block_3_project_BN[0][0]         \n",
            "                                                                 block_4_project_BN[0][0]         \n",
            "__________________________________________________________________________________________________\n",
            "block_5_expand (Conv2D)         (None, 28, 28, 192)  6144        block_4_add[0][0]                \n",
            "__________________________________________________________________________________________________\n",
            "block_5_expand_BN (BatchNormali (None, 28, 28, 192)  768         block_5_expand[0][0]             \n",
            "__________________________________________________________________________________________________\n",
            "block_5_expand_relu (ReLU)      (None, 28, 28, 192)  0           block_5_expand_BN[0][0]          \n",
            "__________________________________________________________________________________________________\n",
            "block_5_depthwise (DepthwiseCon (None, 28, 28, 192)  1728        block_5_expand_relu[0][0]        \n",
            "__________________________________________________________________________________________________\n",
            "block_5_depthwise_BN (BatchNorm (None, 28, 28, 192)  768         block_5_depthwise[0][0]          \n",
            "__________________________________________________________________________________________________\n",
            "block_5_depthwise_relu (ReLU)   (None, 28, 28, 192)  0           block_5_depthwise_BN[0][0]       \n",
            "__________________________________________________________________________________________________\n",
            "block_5_project (Conv2D)        (None, 28, 28, 32)   6144        block_5_depthwise_relu[0][0]     \n",
            "__________________________________________________________________________________________________\n",
            "block_5_project_BN (BatchNormal (None, 28, 28, 32)   128         block_5_project[0][0]            \n",
            "__________________________________________________________________________________________________\n",
            "block_5_add (Add)               (None, 28, 28, 32)   0           block_4_add[0][0]                \n",
            "                                                                 block_5_project_BN[0][0]         \n",
            "__________________________________________________________________________________________________\n",
            "block_6_expand (Conv2D)         (None, 28, 28, 192)  6144        block_5_add[0][0]                \n",
            "__________________________________________________________________________________________________\n",
            "block_6_expand_BN (BatchNormali (None, 28, 28, 192)  768         block_6_expand[0][0]             \n",
            "__________________________________________________________________________________________________\n",
            "block_6_expand_relu (ReLU)      (None, 28, 28, 192)  0           block_6_expand_BN[0][0]          \n",
            "__________________________________________________________________________________________________\n",
            "block_6_pad (ZeroPadding2D)     (None, 29, 29, 192)  0           block_6_expand_relu[0][0]        \n",
            "__________________________________________________________________________________________________\n",
            "block_6_depthwise (DepthwiseCon (None, 14, 14, 192)  1728        block_6_pad[0][0]                \n",
            "__________________________________________________________________________________________________\n",
            "block_6_depthwise_BN (BatchNorm (None, 14, 14, 192)  768         block_6_depthwise[0][0]          \n",
            "__________________________________________________________________________________________________\n",
            "block_6_depthwise_relu (ReLU)   (None, 14, 14, 192)  0           block_6_depthwise_BN[0][0]       \n",
            "__________________________________________________________________________________________________\n",
            "block_6_project (Conv2D)        (None, 14, 14, 64)   12288       block_6_depthwise_relu[0][0]     \n",
            "__________________________________________________________________________________________________\n",
            "block_6_project_BN (BatchNormal (None, 14, 14, 64)   256         block_6_project[0][0]            \n",
            "__________________________________________________________________________________________________\n",
            "block_7_expand (Conv2D)         (None, 14, 14, 384)  24576       block_6_project_BN[0][0]         \n",
            "__________________________________________________________________________________________________\n",
            "block_7_expand_BN (BatchNormali (None, 14, 14, 384)  1536        block_7_expand[0][0]             \n",
            "__________________________________________________________________________________________________\n",
            "block_7_expand_relu (ReLU)      (None, 14, 14, 384)  0           block_7_expand_BN[0][0]          \n",
            "__________________________________________________________________________________________________\n",
            "block_7_depthwise (DepthwiseCon (None, 14, 14, 384)  3456        block_7_expand_relu[0][0]        \n",
            "__________________________________________________________________________________________________\n",
            "block_7_depthwise_BN (BatchNorm (None, 14, 14, 384)  1536        block_7_depthwise[0][0]          \n",
            "__________________________________________________________________________________________________\n",
            "block_7_depthwise_relu (ReLU)   (None, 14, 14, 384)  0           block_7_depthwise_BN[0][0]       \n",
            "__________________________________________________________________________________________________\n",
            "block_7_project (Conv2D)        (None, 14, 14, 64)   24576       block_7_depthwise_relu[0][0]     \n",
            "__________________________________________________________________________________________________\n",
            "block_7_project_BN (BatchNormal (None, 14, 14, 64)   256         block_7_project[0][0]            \n",
            "__________________________________________________________________________________________________\n",
            "block_7_add (Add)               (None, 14, 14, 64)   0           block_6_project_BN[0][0]         \n",
            "                                                                 block_7_project_BN[0][0]         \n",
            "__________________________________________________________________________________________________\n",
            "block_8_expand (Conv2D)         (None, 14, 14, 384)  24576       block_7_add[0][0]                \n",
            "__________________________________________________________________________________________________\n",
            "block_8_expand_BN (BatchNormali (None, 14, 14, 384)  1536        block_8_expand[0][0]             \n",
            "__________________________________________________________________________________________________\n",
            "block_8_expand_relu (ReLU)      (None, 14, 14, 384)  0           block_8_expand_BN[0][0]          \n",
            "__________________________________________________________________________________________________\n",
            "block_8_depthwise (DepthwiseCon (None, 14, 14, 384)  3456        block_8_expand_relu[0][0]        \n",
            "__________________________________________________________________________________________________\n",
            "block_8_depthwise_BN (BatchNorm (None, 14, 14, 384)  1536        block_8_depthwise[0][0]          \n",
            "__________________________________________________________________________________________________\n",
            "block_8_depthwise_relu (ReLU)   (None, 14, 14, 384)  0           block_8_depthwise_BN[0][0]       \n",
            "__________________________________________________________________________________________________\n",
            "block_8_project (Conv2D)        (None, 14, 14, 64)   24576       block_8_depthwise_relu[0][0]     \n",
            "__________________________________________________________________________________________________\n",
            "block_8_project_BN (BatchNormal (None, 14, 14, 64)   256         block_8_project[0][0]            \n",
            "__________________________________________________________________________________________________\n",
            "block_8_add (Add)               (None, 14, 14, 64)   0           block_7_add[0][0]                \n",
            "                                                                 block_8_project_BN[0][0]         \n",
            "__________________________________________________________________________________________________\n",
            "block_9_expand (Conv2D)         (None, 14, 14, 384)  24576       block_8_add[0][0]                \n",
            "__________________________________________________________________________________________________\n",
            "block_9_expand_BN (BatchNormali (None, 14, 14, 384)  1536        block_9_expand[0][0]             \n",
            "__________________________________________________________________________________________________\n",
            "block_9_expand_relu (ReLU)      (None, 14, 14, 384)  0           block_9_expand_BN[0][0]          \n",
            "__________________________________________________________________________________________________\n",
            "block_9_depthwise (DepthwiseCon (None, 14, 14, 384)  3456        block_9_expand_relu[0][0]        \n",
            "__________________________________________________________________________________________________\n",
            "block_9_depthwise_BN (BatchNorm (None, 14, 14, 384)  1536        block_9_depthwise[0][0]          \n",
            "__________________________________________________________________________________________________\n",
            "block_9_depthwise_relu (ReLU)   (None, 14, 14, 384)  0           block_9_depthwise_BN[0][0]       \n",
            "__________________________________________________________________________________________________\n",
            "block_9_project (Conv2D)        (None, 14, 14, 64)   24576       block_9_depthwise_relu[0][0]     \n",
            "__________________________________________________________________________________________________\n",
            "block_9_project_BN (BatchNormal (None, 14, 14, 64)   256         block_9_project[0][0]            \n",
            "__________________________________________________________________________________________________\n",
            "block_9_add (Add)               (None, 14, 14, 64)   0           block_8_add[0][0]                \n",
            "                                                                 block_9_project_BN[0][0]         \n",
            "__________________________________________________________________________________________________\n",
            "block_10_expand (Conv2D)        (None, 14, 14, 384)  24576       block_9_add[0][0]                \n",
            "__________________________________________________________________________________________________\n",
            "block_10_expand_BN (BatchNormal (None, 14, 14, 384)  1536        block_10_expand[0][0]            \n",
            "__________________________________________________________________________________________________\n",
            "block_10_expand_relu (ReLU)     (None, 14, 14, 384)  0           block_10_expand_BN[0][0]         \n",
            "__________________________________________________________________________________________________\n",
            "block_10_depthwise (DepthwiseCo (None, 14, 14, 384)  3456        block_10_expand_relu[0][0]       \n",
            "__________________________________________________________________________________________________\n",
            "block_10_depthwise_BN (BatchNor (None, 14, 14, 384)  1536        block_10_depthwise[0][0]         \n",
            "__________________________________________________________________________________________________\n",
            "block_10_depthwise_relu (ReLU)  (None, 14, 14, 384)  0           block_10_depthwise_BN[0][0]      \n",
            "__________________________________________________________________________________________________\n",
            "block_10_project (Conv2D)       (None, 14, 14, 96)   36864       block_10_depthwise_relu[0][0]    \n",
            "__________________________________________________________________________________________________\n",
            "block_10_project_BN (BatchNorma (None, 14, 14, 96)   384         block_10_project[0][0]           \n",
            "__________________________________________________________________________________________________\n",
            "block_11_expand (Conv2D)        (None, 14, 14, 576)  55296       block_10_project_BN[0][0]        \n",
            "__________________________________________________________________________________________________\n",
            "block_11_expand_BN (BatchNormal (None, 14, 14, 576)  2304        block_11_expand[0][0]            \n",
            "__________________________________________________________________________________________________\n",
            "block_11_expand_relu (ReLU)     (None, 14, 14, 576)  0           block_11_expand_BN[0][0]         \n",
            "__________________________________________________________________________________________________\n",
            "block_11_depthwise (DepthwiseCo (None, 14, 14, 576)  5184        block_11_expand_relu[0][0]       \n",
            "__________________________________________________________________________________________________\n",
            "block_11_depthwise_BN (BatchNor (None, 14, 14, 576)  2304        block_11_depthwise[0][0]         \n",
            "__________________________________________________________________________________________________\n",
            "block_11_depthwise_relu (ReLU)  (None, 14, 14, 576)  0           block_11_depthwise_BN[0][0]      \n",
            "__________________________________________________________________________________________________\n",
            "block_11_project (Conv2D)       (None, 14, 14, 96)   55296       block_11_depthwise_relu[0][0]    \n",
            "__________________________________________________________________________________________________\n",
            "block_11_project_BN (BatchNorma (None, 14, 14, 96)   384         block_11_project[0][0]           \n",
            "__________________________________________________________________________________________________\n",
            "block_11_add (Add)              (None, 14, 14, 96)   0           block_10_project_BN[0][0]        \n",
            "                                                                 block_11_project_BN[0][0]        \n",
            "__________________________________________________________________________________________________\n",
            "block_12_expand (Conv2D)        (None, 14, 14, 576)  55296       block_11_add[0][0]               \n",
            "__________________________________________________________________________________________________\n",
            "block_12_expand_BN (BatchNormal (None, 14, 14, 576)  2304        block_12_expand[0][0]            \n",
            "__________________________________________________________________________________________________\n",
            "block_12_expand_relu (ReLU)     (None, 14, 14, 576)  0           block_12_expand_BN[0][0]         \n",
            "__________________________________________________________________________________________________\n",
            "block_12_depthwise (DepthwiseCo (None, 14, 14, 576)  5184        block_12_expand_relu[0][0]       \n",
            "__________________________________________________________________________________________________\n",
            "block_12_depthwise_BN (BatchNor (None, 14, 14, 576)  2304        block_12_depthwise[0][0]         \n",
            "__________________________________________________________________________________________________\n",
            "block_12_depthwise_relu (ReLU)  (None, 14, 14, 576)  0           block_12_depthwise_BN[0][0]      \n",
            "__________________________________________________________________________________________________\n",
            "block_12_project (Conv2D)       (None, 14, 14, 96)   55296       block_12_depthwise_relu[0][0]    \n",
            "__________________________________________________________________________________________________\n",
            "block_12_project_BN (BatchNorma (None, 14, 14, 96)   384         block_12_project[0][0]           \n",
            "__________________________________________________________________________________________________\n",
            "block_12_add (Add)              (None, 14, 14, 96)   0           block_11_add[0][0]               \n",
            "                                                                 block_12_project_BN[0][0]        \n",
            "__________________________________________________________________________________________________\n",
            "block_13_expand (Conv2D)        (None, 14, 14, 576)  55296       block_12_add[0][0]               \n",
            "__________________________________________________________________________________________________\n",
            "block_13_expand_BN (BatchNormal (None, 14, 14, 576)  2304        block_13_expand[0][0]            \n",
            "__________________________________________________________________________________________________\n",
            "block_13_expand_relu (ReLU)     (None, 14, 14, 576)  0           block_13_expand_BN[0][0]         \n",
            "__________________________________________________________________________________________________\n",
            "block_13_pad (ZeroPadding2D)    (None, 15, 15, 576)  0           block_13_expand_relu[0][0]       \n",
            "__________________________________________________________________________________________________\n",
            "block_13_depthwise (DepthwiseCo (None, 7, 7, 576)    5184        block_13_pad[0][0]               \n",
            "__________________________________________________________________________________________________\n",
            "block_13_depthwise_BN (BatchNor (None, 7, 7, 576)    2304        block_13_depthwise[0][0]         \n",
            "__________________________________________________________________________________________________\n",
            "block_13_depthwise_relu (ReLU)  (None, 7, 7, 576)    0           block_13_depthwise_BN[0][0]      \n",
            "__________________________________________________________________________________________________\n",
            "block_13_project (Conv2D)       (None, 7, 7, 160)    92160       block_13_depthwise_relu[0][0]    \n",
            "__________________________________________________________________________________________________\n",
            "block_13_project_BN (BatchNorma (None, 7, 7, 160)    640         block_13_project[0][0]           \n",
            "__________________________________________________________________________________________________\n",
            "block_14_expand (Conv2D)        (None, 7, 7, 960)    153600      block_13_project_BN[0][0]        \n",
            "__________________________________________________________________________________________________\n",
            "block_14_expand_BN (BatchNormal (None, 7, 7, 960)    3840        block_14_expand[0][0]            \n",
            "__________________________________________________________________________________________________\n",
            "block_14_expand_relu (ReLU)     (None, 7, 7, 960)    0           block_14_expand_BN[0][0]         \n",
            "__________________________________________________________________________________________________\n",
            "block_14_depthwise (DepthwiseCo (None, 7, 7, 960)    8640        block_14_expand_relu[0][0]       \n",
            "__________________________________________________________________________________________________\n",
            "block_14_depthwise_BN (BatchNor (None, 7, 7, 960)    3840        block_14_depthwise[0][0]         \n",
            "__________________________________________________________________________________________________\n",
            "block_14_depthwise_relu (ReLU)  (None, 7, 7, 960)    0           block_14_depthwise_BN[0][0]      \n",
            "__________________________________________________________________________________________________\n",
            "block_14_project (Conv2D)       (None, 7, 7, 160)    153600      block_14_depthwise_relu[0][0]    \n",
            "__________________________________________________________________________________________________\n",
            "block_14_project_BN (BatchNorma (None, 7, 7, 160)    640         block_14_project[0][0]           \n",
            "__________________________________________________________________________________________________\n",
            "block_14_add (Add)              (None, 7, 7, 160)    0           block_13_project_BN[0][0]        \n",
            "                                                                 block_14_project_BN[0][0]        \n",
            "__________________________________________________________________________________________________\n",
            "block_15_expand (Conv2D)        (None, 7, 7, 960)    153600      block_14_add[0][0]               \n",
            "__________________________________________________________________________________________________\n",
            "block_15_expand_BN (BatchNormal (None, 7, 7, 960)    3840        block_15_expand[0][0]            \n",
            "__________________________________________________________________________________________________\n",
            "block_15_expand_relu (ReLU)     (None, 7, 7, 960)    0           block_15_expand_BN[0][0]         \n",
            "__________________________________________________________________________________________________\n",
            "block_15_depthwise (DepthwiseCo (None, 7, 7, 960)    8640        block_15_expand_relu[0][0]       \n",
            "__________________________________________________________________________________________________\n",
            "block_15_depthwise_BN (BatchNor (None, 7, 7, 960)    3840        block_15_depthwise[0][0]         \n",
            "__________________________________________________________________________________________________\n",
            "block_15_depthwise_relu (ReLU)  (None, 7, 7, 960)    0           block_15_depthwise_BN[0][0]      \n",
            "__________________________________________________________________________________________________\n",
            "block_15_project (Conv2D)       (None, 7, 7, 160)    153600      block_15_depthwise_relu[0][0]    \n",
            "__________________________________________________________________________________________________\n",
            "block_15_project_BN (BatchNorma (None, 7, 7, 160)    640         block_15_project[0][0]           \n",
            "__________________________________________________________________________________________________\n",
            "block_15_add (Add)              (None, 7, 7, 160)    0           block_14_add[0][0]               \n",
            "                                                                 block_15_project_BN[0][0]        \n",
            "__________________________________________________________________________________________________\n",
            "block_16_expand (Conv2D)        (None, 7, 7, 960)    153600      block_15_add[0][0]               \n",
            "__________________________________________________________________________________________________\n",
            "block_16_expand_BN (BatchNormal (None, 7, 7, 960)    3840        block_16_expand[0][0]            \n",
            "__________________________________________________________________________________________________\n",
            "block_16_expand_relu (ReLU)     (None, 7, 7, 960)    0           block_16_expand_BN[0][0]         \n",
            "__________________________________________________________________________________________________\n",
            "block_16_depthwise (DepthwiseCo (None, 7, 7, 960)    8640        block_16_expand_relu[0][0]       \n",
            "__________________________________________________________________________________________________\n",
            "block_16_depthwise_BN (BatchNor (None, 7, 7, 960)    3840        block_16_depthwise[0][0]         \n",
            "__________________________________________________________________________________________________\n",
            "block_16_depthwise_relu (ReLU)  (None, 7, 7, 960)    0           block_16_depthwise_BN[0][0]      \n",
            "__________________________________________________________________________________________________\n",
            "block_16_project (Conv2D)       (None, 7, 7, 320)    307200      block_16_depthwise_relu[0][0]    \n",
            "__________________________________________________________________________________________________\n",
            "block_16_project_BN (BatchNorma (None, 7, 7, 320)    1280        block_16_project[0][0]           \n",
            "__________________________________________________________________________________________________\n",
            "Conv_1 (Conv2D)                 (None, 7, 7, 1280)   409600      block_16_project_BN[0][0]        \n",
            "__________________________________________________________________________________________________\n",
            "Conv_1_bn (BatchNormalization)  (None, 7, 7, 1280)   5120        Conv_1[0][0]                     \n",
            "__________________________________________________________________________________________________\n",
            "out_relu (ReLU)                 (None, 7, 7, 1280)   0           Conv_1_bn[0][0]                  \n",
            "__________________________________________________________________________________________________\n",
            "flatten (Flatten)               (None, 62720)        0           out_relu[0][0]                   \n",
            "__________________________________________________________________________________________________\n",
            "dense (Dense)                   (None, 3)            188163      flatten[0][0]                    \n",
            "==================================================================================================\n",
            "Total params: 2,446,147\n",
            "Trainable params: 188,163\n",
            "Non-trainable params: 2,257,984\n",
            "__________________________________________________________________________________________________\n"
          ]
        }
      ]
    },
    {
      "cell_type": "code",
      "metadata": {
        "id": "1HSPQ0ZMoZN-"
      },
      "source": [
        "model.compile(\n",
        "  loss='categorical_crossentropy',\n",
        "  optimizer='adam',\n",
        "  metrics=['accuracy']\n",
        ")"
      ],
      "execution_count": null,
      "outputs": []
    },
    {
      "cell_type": "code",
      "metadata": {
        "id": "h3ttyXNHoZQ1"
      },
      "source": [
        "train_datagen = image.ImageDataGenerator(\n",
        "rescale=1./255,\n",
        "shear_range= 0.2,\n",
        "zoom_range= 0.2,\n",
        "horizontal_flip = True,\n",
        ")\n",
        "test_dataset=image.ImageDataGenerator(rescale=1./255)"
      ],
      "execution_count": null,
      "outputs": []
    },
    {
      "cell_type": "code",
      "metadata": {
        "colab": {
          "base_uri": "https://localhost:8080/"
        },
        "id": "IjxhZgISnqTN",
        "outputId": "2bc2cffb-0a3e-45f6-afc2-9f215dd73add"
      },
      "source": [
        "train_generator = train_datagen.flow_from_directory(\n",
        "    '/content/drive/MyDrive/train',\n",
        "    target_size=(224,224),\n",
        "    batch_size= 32,\n",
        "    class_mode= 'categorical')"
      ],
      "execution_count": null,
      "outputs": [
        {
          "output_type": "stream",
          "name": "stdout",
          "text": [
            "Found 967 images belonging to 3 classes.\n"
          ]
        }
      ]
    },
    {
      "cell_type": "code",
      "metadata": {
        "colab": {
          "base_uri": "https://localhost:8080/"
        },
        "id": "6__QffvdnqVr",
        "outputId": "8dc46217-6315-407e-db63-6654afb4e415"
      },
      "source": [
        "train_generator.class_indices"
      ],
      "execution_count": null,
      "outputs": [
        {
          "output_type": "execute_result",
          "data": {
            "text/plain": [
              "{'Covid-19': 0, 'No_findings': 1, 'Pneumonia': 2}"
            ]
          },
          "metadata": {},
          "execution_count": 19
        }
      ]
    },
    {
      "cell_type": "code",
      "metadata": {
        "colab": {
          "base_uri": "https://localhost:8080/"
        },
        "id": "crLplWeSpRxl",
        "outputId": "3e80f81f-6a61-414d-8be1-499a528a4e42"
      },
      "source": [
        "validation_generator = test_dataset.flow_from_directory(\n",
        "        '/content/drive/MyDrive/test',\n",
        "        target_size=(224, 224),\n",
        "        batch_size=32,\n",
        "        class_mode='categorical')"
      ],
      "execution_count": null,
      "outputs": [
        {
          "output_type": "stream",
          "name": "stdout",
          "text": [
            "Found 158 images belonging to 3 classes.\n"
          ]
        }
      ]
    },
    {
      "cell_type": "code",
      "metadata": {
        "colab": {
          "base_uri": "https://localhost:8080/"
        },
        "id": "eAH69v0epR19",
        "outputId": "5d03125f-4bb4-4045-d572-ff0f9b6d372f"
      },
      "source": [
        "hist = model.fit(\n",
        "  train_generator,\n",
        "  validation_data=validation_generator,\n",
        "  epochs=50,\n",
        "  steps_per_epoch=len(train_generator),\n",
        "  validation_steps=len(validation_generator)\n",
        ")"
      ],
      "execution_count": null,
      "outputs": [
        {
          "output_type": "stream",
          "name": "stdout",
          "text": [
            "Epoch 1/50\n",
            "31/31 [==============================] - 518s 16s/step - loss: 5.3679 - accuracy: 0.6474 - val_loss: 5.5165 - val_accuracy: 0.5570\n",
            "Epoch 2/50\n",
            "31/31 [==============================] - 33s 1s/step - loss: 1.9726 - accuracy: 0.8139 - val_loss: 2.5391 - val_accuracy: 0.6709\n",
            "Epoch 3/50\n",
            "31/31 [==============================] - 34s 1s/step - loss: 1.2109 - accuracy: 0.8376 - val_loss: 2.1483 - val_accuracy: 0.7215\n",
            "Epoch 4/50\n",
            "31/31 [==============================] - 33s 1s/step - loss: 0.6206 - accuracy: 0.8780 - val_loss: 4.1731 - val_accuracy: 0.6519\n",
            "Epoch 5/50\n",
            "31/31 [==============================] - 33s 1s/step - loss: 0.6173 - accuracy: 0.8976 - val_loss: 2.9421 - val_accuracy: 0.6709\n",
            "Epoch 6/50\n",
            "31/31 [==============================] - 33s 1s/step - loss: 0.8120 - accuracy: 0.8749 - val_loss: 3.5351 - val_accuracy: 0.6709\n",
            "Epoch 7/50\n",
            "31/31 [==============================] - 33s 1s/step - loss: 1.0068 - accuracy: 0.8542 - val_loss: 2.5278 - val_accuracy: 0.7405\n",
            "Epoch 8/50\n",
            "31/31 [==============================] - 33s 1s/step - loss: 1.2276 - accuracy: 0.8511 - val_loss: 6.0737 - val_accuracy: 0.5570\n",
            "Epoch 9/50\n",
            "31/31 [==============================] - 33s 1s/step - loss: 1.2528 - accuracy: 0.8552 - val_loss: 4.2453 - val_accuracy: 0.6646\n",
            "Epoch 10/50\n",
            "31/31 [==============================] - 33s 1s/step - loss: 0.9737 - accuracy: 0.8956 - val_loss: 4.9351 - val_accuracy: 0.6329\n",
            "Epoch 11/50\n",
            "31/31 [==============================] - 33s 1s/step - loss: 0.6121 - accuracy: 0.9193 - val_loss: 3.8729 - val_accuracy: 0.6835\n",
            "Epoch 12/50\n",
            "31/31 [==============================] - 33s 1s/step - loss: 0.4649 - accuracy: 0.9317 - val_loss: 3.7672 - val_accuracy: 0.6899\n",
            "Epoch 13/50\n",
            "31/31 [==============================] - 33s 1s/step - loss: 0.5215 - accuracy: 0.9224 - val_loss: 4.6452 - val_accuracy: 0.6266\n",
            "Epoch 14/50\n",
            "31/31 [==============================] - 33s 1s/step - loss: 0.3011 - accuracy: 0.9524 - val_loss: 2.8523 - val_accuracy: 0.7278\n",
            "Epoch 15/50\n",
            "31/31 [==============================] - 33s 1s/step - loss: 0.2692 - accuracy: 0.9586 - val_loss: 6.5781 - val_accuracy: 0.5949\n",
            "Epoch 16/50\n",
            "31/31 [==============================] - 33s 1s/step - loss: 0.2214 - accuracy: 0.9535 - val_loss: 7.1292 - val_accuracy: 0.5759\n",
            "Epoch 17/50\n",
            "31/31 [==============================] - 33s 1s/step - loss: 0.3956 - accuracy: 0.9493 - val_loss: 6.1866 - val_accuracy: 0.6456\n",
            "Epoch 18/50\n",
            "31/31 [==============================] - 33s 1s/step - loss: 0.2815 - accuracy: 0.9493 - val_loss: 4.0395 - val_accuracy: 0.7152\n",
            "Epoch 19/50\n",
            "31/31 [==============================] - 33s 1s/step - loss: 0.4291 - accuracy: 0.9431 - val_loss: 7.8443 - val_accuracy: 0.5696\n",
            "Epoch 20/50\n",
            "31/31 [==============================] - 33s 1s/step - loss: 0.3200 - accuracy: 0.9545 - val_loss: 8.1569 - val_accuracy: 0.5823\n",
            "Epoch 21/50\n",
            "31/31 [==============================] - 33s 1s/step - loss: 0.5469 - accuracy: 0.9328 - val_loss: 4.5419 - val_accuracy: 0.6899\n",
            "Epoch 22/50\n",
            "31/31 [==============================] - 33s 1s/step - loss: 0.3621 - accuracy: 0.9442 - val_loss: 5.1251 - val_accuracy: 0.6899\n",
            "Epoch 23/50\n",
            "31/31 [==============================] - 33s 1s/step - loss: 0.3481 - accuracy: 0.9524 - val_loss: 3.0549 - val_accuracy: 0.7468\n",
            "Epoch 24/50\n",
            "31/31 [==============================] - 33s 1s/step - loss: 0.3092 - accuracy: 0.9545 - val_loss: 3.3027 - val_accuracy: 0.7468\n",
            "Epoch 25/50\n",
            "31/31 [==============================] - 33s 1s/step - loss: 0.4192 - accuracy: 0.9452 - val_loss: 3.2781 - val_accuracy: 0.7468\n",
            "Epoch 26/50\n",
            "31/31 [==============================] - 33s 1s/step - loss: 0.1451 - accuracy: 0.9669 - val_loss: 4.0555 - val_accuracy: 0.7405\n",
            "Epoch 27/50\n",
            "31/31 [==============================] - 33s 1s/step - loss: 0.3074 - accuracy: 0.9524 - val_loss: 6.7608 - val_accuracy: 0.6646\n",
            "Epoch 28/50\n",
            "31/31 [==============================] - 33s 1s/step - loss: 0.3389 - accuracy: 0.9617 - val_loss: 3.4476 - val_accuracy: 0.7532\n",
            "Epoch 29/50\n",
            "31/31 [==============================] - 33s 1s/step - loss: 0.1781 - accuracy: 0.9710 - val_loss: 5.6660 - val_accuracy: 0.7089\n",
            "Epoch 30/50\n",
            "31/31 [==============================] - 33s 1s/step - loss: 0.3679 - accuracy: 0.9524 - val_loss: 5.3421 - val_accuracy: 0.6835\n",
            "Epoch 31/50\n",
            "31/31 [==============================] - 33s 1s/step - loss: 0.2897 - accuracy: 0.9566 - val_loss: 5.1739 - val_accuracy: 0.6709\n",
            "Epoch 32/50\n",
            "31/31 [==============================] - 33s 1s/step - loss: 0.6112 - accuracy: 0.9297 - val_loss: 7.9017 - val_accuracy: 0.6266\n",
            "Epoch 33/50\n",
            "31/31 [==============================] - 33s 1s/step - loss: 0.6381 - accuracy: 0.9297 - val_loss: 4.9642 - val_accuracy: 0.7152\n",
            "Epoch 34/50\n",
            "31/31 [==============================] - 33s 1s/step - loss: 0.8720 - accuracy: 0.9111 - val_loss: 4.0161 - val_accuracy: 0.7658\n",
            "Epoch 35/50\n",
            "31/31 [==============================] - 33s 1s/step - loss: 0.3651 - accuracy: 0.9607 - val_loss: 5.9151 - val_accuracy: 0.7025\n",
            "Epoch 36/50\n",
            "31/31 [==============================] - 33s 1s/step - loss: 0.2708 - accuracy: 0.9617 - val_loss: 8.5233 - val_accuracy: 0.6139\n",
            "Epoch 37/50\n",
            "31/31 [==============================] - 33s 1s/step - loss: 0.3963 - accuracy: 0.9628 - val_loss: 6.2702 - val_accuracy: 0.6519\n",
            "Epoch 38/50\n",
            "31/31 [==============================] - 33s 1s/step - loss: 0.2741 - accuracy: 0.9617 - val_loss: 6.0606 - val_accuracy: 0.7152\n",
            "Epoch 39/50\n",
            "31/31 [==============================] - 33s 1s/step - loss: 0.3915 - accuracy: 0.9524 - val_loss: 9.0576 - val_accuracy: 0.6139\n",
            "Epoch 40/50\n",
            "31/31 [==============================] - 33s 1s/step - loss: 0.2938 - accuracy: 0.9659 - val_loss: 7.6197 - val_accuracy: 0.6646\n",
            "Epoch 41/50\n",
            "31/31 [==============================] - 33s 1s/step - loss: 0.2264 - accuracy: 0.9669 - val_loss: 7.1770 - val_accuracy: 0.6709\n",
            "Epoch 42/50\n",
            "31/31 [==============================] - 33s 1s/step - loss: 0.1299 - accuracy: 0.9845 - val_loss: 9.7748 - val_accuracy: 0.6013\n",
            "Epoch 43/50\n",
            "31/31 [==============================] - 33s 1s/step - loss: 0.4995 - accuracy: 0.9452 - val_loss: 5.2323 - val_accuracy: 0.7595\n",
            "Epoch 44/50\n",
            "31/31 [==============================] - 33s 1s/step - loss: 0.4832 - accuracy: 0.9504 - val_loss: 8.8585 - val_accuracy: 0.6646\n",
            "Epoch 45/50\n",
            "31/31 [==============================] - 33s 1s/step - loss: 0.3369 - accuracy: 0.9586 - val_loss: 8.4945 - val_accuracy: 0.6582\n",
            "Epoch 46/50\n",
            "31/31 [==============================] - 33s 1s/step - loss: 0.5209 - accuracy: 0.9483 - val_loss: 6.9889 - val_accuracy: 0.7089\n",
            "Epoch 47/50\n",
            "31/31 [==============================] - 33s 1s/step - loss: 0.2272 - accuracy: 0.9669 - val_loss: 8.6113 - val_accuracy: 0.6139\n",
            "Epoch 48/50\n",
            "31/31 [==============================] - 33s 1s/step - loss: 0.2869 - accuracy: 0.9679 - val_loss: 5.0938 - val_accuracy: 0.7468\n",
            "Epoch 49/50\n",
            "31/31 [==============================] - 33s 1s/step - loss: 0.2524 - accuracy: 0.9731 - val_loss: 6.2971 - val_accuracy: 0.7278\n",
            "Epoch 50/50\n",
            "31/31 [==============================] - 33s 1s/step - loss: 0.1547 - accuracy: 0.9752 - val_loss: 13.2080 - val_accuracy: 0.5380\n"
          ]
        }
      ]
    },
    {
      "cell_type": "code",
      "metadata": {
        "id": "ud84OSU6pR5E"
      },
      "source": [
        "import matplotlib.pyplot as plt"
      ],
      "execution_count": null,
      "outputs": []
    },
    {
      "cell_type": "code",
      "metadata": {
        "colab": {
          "base_uri": "https://localhost:8080/",
          "height": 532
        },
        "id": "SNXeqLv6pR8F",
        "outputId": "d2808fdc-e922-40d8-d437-dcd42d4f0e9d"
      },
      "source": [
        "# plot the loss\n",
        "plt.plot(hist.history['loss'], label='train loss')\n",
        "plt.plot(hist.history['val_loss'], label='val loss')\n",
        "plt.legend()\n",
        "plt.show()\n",
        "plt.savefig('LossVal_loss')\n",
        "\n",
        "# plot the accuracy\n",
        "plt.plot(hist.history['accuracy'], label='train acc')\n",
        "plt.plot(hist.history['val_accuracy'], label='val acc')\n",
        "plt.legend()\n",
        "plt.show()\n",
        "plt.savefig('AccVal_acc')"
      ],
      "execution_count": null,
      "outputs": [
        {
          "output_type": "display_data",
          "data": {
            "image/png": "[encoded data removed]",
            "text/plain": [
              "<Figure size 432x288 with 1 Axes>"
            ]
          },
          "metadata": {
            "needs_background": "light"
          }
        },
        {
          "output_type": "display_data",
          "data": {
            "image/png": "[encoded data removed]",
            "text/plain": [
              "<Figure size 432x288 with 1 Axes>"
            ]
          },
          "metadata": {
            "needs_background": "light"
          }
        },
        {
          "output_type": "display_data",
          "data": {
            "text/plain": [
              "<Figure size 432x288 with 0 Axes>"
            ]
          },
          "metadata": {}
        }
      ]
    },
    {
      "cell_type": "code",
      "metadata": {
        "colab": {
          "base_uri": "https://localhost:8080/"
        },
        "id": "jqsY3NuUpR_F",
        "outputId": "654faaf3-0c13-4e94-9d20-27132a05dfda"
      },
      "source": [
        "# save it as a h5 file\n",
        "\n",
        "\n",
        "from tensorflow.keras.models import load_model\n",
        "\n",
        "model.save('model_mobilenet_v2.h5')"
      ],
      "execution_count": null,
      "outputs": [
        {
          "output_type": "stream",
          "name": "stderr",
          "text": [
            "/usr/local/lib/python3.7/dist-packages/keras/utils/generic_utils.py:497: CustomMaskWarning: Custom mask layers require a config and must override get_config. When loading, the custom mask layer must be passed to the custom_objects argument.\n",
            "  category=CustomMaskWarning)\n"
          ]
        }
      ]
    },
    {
      "cell_type": "code",
      "metadata": {
        "id": "h4UuyMi4pSCA"
      },
      "source": [
        "y_pred = model.predict(validation_generator)"
      ],
      "execution_count": null,
      "outputs": []
    },
    {
      "cell_type": "code",
      "metadata": {
        "colab": {
          "base_uri": "https://localhost:8080/"
        },
        "id": "E9HnBtu5pSFM",
        "outputId": "49b70261-8dab-424a-da13-e9808920736e"
      },
      "source": [
        "y_pred"
      ],
      "execution_count": null,
      "outputs": [
        {
          "output_type": "execute_result",
          "data": {
            "text/plain": [
              "array([[2.55281552e-26, 1.59142544e-30, 1.00000000e+00],\n",
              "       [8.83668477e-14, 1.00000000e+00, 6.18178353e-09],\n",
              "       [1.71513928e-36, 3.02657399e-19, 1.00000000e+00],\n",
              "       [7.85476994e-04, 3.02271202e-32, 9.99214530e-01],\n",
              "       [0.00000000e+00, 1.30559856e-04, 9.99869466e-01],\n",
              "       [0.00000000e+00, 9.98689592e-01, 1.31036923e-03],\n",
              "       [5.57151161e-08, 1.12843939e-20, 1.00000000e+00],\n",
              "       [1.37098136e-34, 1.43760724e-22, 1.00000000e+00],\n",
              "       [0.00000000e+00, 1.00000000e+00, 2.11914367e-20],\n",
              "       [2.34586378e-06, 1.80332851e-25, 9.99997616e-01],\n",
              "       [2.52525729e-13, 1.93162970e-21, 1.00000000e+00],\n",
              "       [1.56939505e-17, 1.33230362e-18, 1.00000000e+00],\n",
              "       [1.13086353e-31, 8.21419857e-25, 1.00000000e+00],\n",
              "       [5.51463995e-20, 7.52178681e-29, 1.00000000e+00],\n",
              "       [1.36888349e-15, 0.00000000e+00, 1.00000000e+00],\n",
              "       [2.59855436e-24, 0.00000000e+00, 1.00000000e+00],\n",
              "       [0.00000000e+00, 0.00000000e+00, 1.00000000e+00],\n",
              "       [2.97762563e-35, 5.81404436e-07, 9.99999404e-01],\n",
              "       [1.00000000e+00, 0.00000000e+00, 5.97376389e-21],\n",
              "       [2.24515614e-11, 0.00000000e+00, 1.00000000e+00],\n",
              "       [0.00000000e+00, 5.72517811e-10, 1.00000000e+00],\n",
              "       [0.00000000e+00, 6.24148067e-10, 1.00000000e+00],\n",
              "       [2.65587947e-23, 0.00000000e+00, 1.00000000e+00],\n",
              "       [0.00000000e+00, 7.99053609e-02, 9.20094669e-01],\n",
              "       [0.00000000e+00, 1.45505122e-13, 1.00000000e+00],\n",
              "       [0.00000000e+00, 0.00000000e+00, 1.00000000e+00],\n",
              "       [1.00000000e+00, 0.00000000e+00, 1.75009803e-33],\n",
              "       [1.00000000e+00, 0.00000000e+00, 9.23617885e-32],\n",
              "       [7.12401305e-21, 2.24950986e-27, 1.00000000e+00],\n",
              "       [7.78016071e-33, 7.77378219e-18, 1.00000000e+00],\n",
              "       [6.05786170e-07, 4.77613508e-24, 9.99999404e-01],\n",
              "       [0.00000000e+00, 6.05916743e-27, 1.00000000e+00],\n",
              "       [5.63324951e-02, 1.80517958e-34, 9.43667531e-01],\n",
              "       [0.00000000e+00, 1.32773337e-24, 1.00000000e+00],\n",
              "       [4.57588705e-17, 5.28699319e-36, 1.00000000e+00],\n",
              "       [2.38096710e-25, 6.32963810e-27, 1.00000000e+00],\n",
              "       [0.00000000e+00, 3.78462803e-23, 1.00000000e+00],\n",
              "       [9.99999881e-01, 2.88590126e-30, 1.02173644e-07],\n",
              "       [1.25652411e-06, 0.00000000e+00, 9.99998689e-01],\n",
              "       [0.00000000e+00, 4.97444293e-29, 1.00000000e+00],\n",
              "       [2.42552580e-27, 2.29053781e-03, 9.97709394e-01],\n",
              "       [9.99984860e-01, 6.75229140e-37, 1.51446375e-05],\n",
              "       [0.00000000e+00, 2.72081420e-03, 9.97279227e-01],\n",
              "       [9.99661922e-01, 5.06071951e-27, 3.38135433e-04],\n",
              "       [1.00000000e+00, 6.50174461e-37, 1.79016701e-09],\n",
              "       [1.00000000e+00, 0.00000000e+00, 1.84905404e-29],\n",
              "       [0.00000000e+00, 6.83028758e-01, 3.16971242e-01],\n",
              "       [1.00000000e+00, 0.00000000e+00, 8.53592116e-15],\n",
              "       [0.00000000e+00, 9.84365106e-01, 1.56349000e-02],\n",
              "       [1.05705827e-35, 0.00000000e+00, 1.00000000e+00],\n",
              "       [1.31877407e-08, 9.08921934e-29, 1.00000000e+00],\n",
              "       [1.00000000e+00, 6.09192612e-31, 2.88690946e-11],\n",
              "       [1.74344843e-03, 0.00000000e+00, 9.98256505e-01],\n",
              "       [0.00000000e+00, 2.77052365e-28, 1.00000000e+00],\n",
              "       [7.42272432e-32, 1.02353364e-01, 8.97646606e-01],\n",
              "       [1.85280773e-13, 1.27732981e-34, 1.00000000e+00],\n",
              "       [3.11307587e-25, 6.92474220e-22, 1.00000000e+00],\n",
              "       [9.99365985e-01, 7.76888154e-26, 6.34000637e-04],\n",
              "       [0.00000000e+00, 1.24143048e-06, 9.99998808e-01],\n",
              "       [0.00000000e+00, 1.00000000e+00, 2.20438565e-08],\n",
              "       [0.00000000e+00, 4.29119969e-14, 1.00000000e+00],\n",
              "       [1.60428433e-13, 3.64309430e-01, 6.35690570e-01],\n",
              "       [1.00000000e+00, 0.00000000e+00, 1.20409774e-14],\n",
              "       [2.73725592e-34, 3.63182014e-30, 1.00000000e+00],\n",
              "       [0.00000000e+00, 6.58079773e-21, 1.00000000e+00],\n",
              "       [0.00000000e+00, 1.78714132e-20, 1.00000000e+00],\n",
              "       [3.70841324e-01, 4.47678589e-10, 6.29158676e-01],\n",
              "       [1.05008104e-28, 2.95731475e-08, 1.00000000e+00],\n",
              "       [6.48968684e-32, 8.22963472e-03, 9.91770387e-01],\n",
              "       [0.00000000e+00, 6.53234409e-08, 9.99999881e-01],\n",
              "       [1.00000000e+00, 7.86363936e-35, 1.07374992e-12],\n",
              "       [0.00000000e+00, 1.23053542e-05, 9.99987721e-01],\n",
              "       [1.87220417e-09, 8.69518197e-38, 1.00000000e+00],\n",
              "       [1.39557474e-13, 2.45452934e-28, 1.00000000e+00],\n",
              "       [0.00000000e+00, 9.09323750e-15, 1.00000000e+00],\n",
              "       [0.00000000e+00, 6.41490599e-36, 1.00000000e+00],\n",
              "       [0.00000000e+00, 9.99999762e-01, 2.26707400e-07],\n",
              "       [9.71303582e-01, 8.02328673e-32, 2.86964457e-02],\n",
              "       [1.33792842e-02, 6.40879285e-28, 9.86620665e-01],\n",
              "       [7.41983725e-38, 1.20911805e-03, 9.98790920e-01],\n",
              "       [0.00000000e+00, 5.25091733e-20, 1.00000000e+00],\n",
              "       [0.00000000e+00, 1.19355112e-08, 1.00000000e+00],\n",
              "       [0.00000000e+00, 2.41445487e-05, 9.99975801e-01],\n",
              "       [1.00000000e+00, 0.00000000e+00, 3.65002478e-17],\n",
              "       [1.00000000e+00, 0.00000000e+00, 1.53270484e-12],\n",
              "       [0.00000000e+00, 5.07622985e-07, 9.99999523e-01],\n",
              "       [0.00000000e+00, 1.86511140e-09, 1.00000000e+00],\n",
              "       [3.17204421e-24, 7.84699632e-23, 1.00000000e+00],\n",
              "       [2.39705462e-02, 3.38008212e-34, 9.76029456e-01],\n",
              "       [1.00000000e+00, 0.00000000e+00, 5.07983846e-13],\n",
              "       [0.00000000e+00, 1.00000000e+00, 2.00747770e-25],\n",
              "       [2.76250498e-11, 9.99767005e-01, 2.33054539e-04],\n",
              "       [2.15785928e-20, 3.09265615e-26, 1.00000000e+00],\n",
              "       [0.00000000e+00, 9.99999523e-01, 4.56099031e-07],\n",
              "       [7.40444511e-12, 3.01983275e-23, 1.00000000e+00],\n",
              "       [7.22363280e-11, 1.19665910e-25, 1.00000000e+00],\n",
              "       [0.00000000e+00, 7.95750082e-01, 2.04249933e-01],\n",
              "       [1.27311078e-10, 1.99768532e-24, 1.00000000e+00],\n",
              "       [1.11594913e-33, 2.51310475e-25, 1.00000000e+00],\n",
              "       [1.00399384e-16, 2.05270816e-34, 1.00000000e+00],\n",
              "       [0.00000000e+00, 0.00000000e+00, 1.00000000e+00],\n",
              "       [0.00000000e+00, 1.00000000e+00, 4.02148181e-09],\n",
              "       [0.00000000e+00, 7.01315477e-02, 9.29868400e-01],\n",
              "       [9.94251847e-01, 8.92630978e-36, 5.74818347e-03],\n",
              "       [1.00000000e+00, 0.00000000e+00, 9.97258699e-13],\n",
              "       [3.25635067e-22, 3.51203561e-21, 1.00000000e+00],\n",
              "       [0.00000000e+00, 2.03972877e-06, 9.99997973e-01],\n",
              "       [1.00000000e+00, 3.27452054e-32, 4.21047082e-26],\n",
              "       [5.88593364e-04, 2.06908066e-27, 9.99411464e-01],\n",
              "       [0.00000000e+00, 2.07081209e-20, 1.00000000e+00],\n",
              "       [0.00000000e+00, 2.60618390e-20, 1.00000000e+00],\n",
              "       [3.14550522e-35, 1.29868362e-14, 1.00000000e+00],\n",
              "       [6.57527050e-23, 8.12283090e-19, 1.00000000e+00],\n",
              "       [1.76441518e-33, 9.99556959e-01, 4.43052675e-04],\n",
              "       [2.63560935e-07, 1.53639036e-37, 9.99999762e-01],\n",
              "       [3.47633054e-34, 7.09968344e-27, 1.00000000e+00],\n",
              "       [0.00000000e+00, 4.67536988e-16, 1.00000000e+00],\n",
              "       [3.21117431e-21, 4.34452202e-03, 9.95655417e-01],\n",
              "       [1.00000000e+00, 0.00000000e+00, 1.62388130e-08],\n",
              "       [0.00000000e+00, 2.09879382e-24, 1.00000000e+00],\n",
              "       [1.88578943e-14, 4.34105759e-35, 1.00000000e+00],\n",
              "       [0.00000000e+00, 1.94472958e-30, 1.00000000e+00],\n",
              "       [0.00000000e+00, 1.92037020e-25, 1.00000000e+00],\n",
              "       [0.00000000e+00, 9.52475116e-17, 1.00000000e+00],\n",
              "       [1.00000000e+00, 6.77749997e-38, 8.75687582e-20],\n",
              "       [2.55421882e-33, 4.26624452e-36, 1.00000000e+00],\n",
              "       [2.03355100e-07, 7.72908412e-30, 9.99999762e-01],\n",
              "       [2.01110634e-37, 4.34030943e-29, 1.00000000e+00],\n",
              "       [0.00000000e+00, 7.49058415e-08, 9.99999881e-01],\n",
              "       [6.46242095e-27, 5.92193939e-02, 9.40780640e-01],\n",
              "       [0.00000000e+00, 3.60157742e-07, 9.99999642e-01],\n",
              "       [0.00000000e+00, 1.00000000e+00, 3.25880252e-12],\n",
              "       [3.35929073e-32, 4.94088579e-17, 1.00000000e+00],\n",
              "       [0.00000000e+00, 1.36409706e-09, 1.00000000e+00],\n",
              "       [1.25198781e-07, 1.72180866e-33, 9.99999881e-01],\n",
              "       [1.00000000e+00, 2.02490117e-37, 7.18777240e-23],\n",
              "       [7.97198790e-18, 4.66938730e-21, 1.00000000e+00],\n",
              "       [0.00000000e+00, 6.13930142e-18, 1.00000000e+00],\n",
              "       [0.00000000e+00, 8.52797893e-05, 9.99914765e-01],\n",
              "       [0.00000000e+00, 2.86525209e-03, 9.97134686e-01],\n",
              "       [0.00000000e+00, 2.49414082e-15, 1.00000000e+00],\n",
              "       [1.43537502e-37, 1.47160245e-06, 9.99998569e-01],\n",
              "       [0.00000000e+00, 8.19059390e-28, 1.00000000e+00],\n",
              "       [9.66425836e-01, 4.41391281e-32, 3.35741527e-02],\n",
              "       [0.00000000e+00, 1.31752387e-07, 9.99999881e-01],\n",
              "       [0.00000000e+00, 4.46003689e-19, 1.00000000e+00],\n",
              "       [0.00000000e+00, 3.22184898e-02, 9.67781484e-01],\n",
              "       [0.00000000e+00, 7.85909263e-17, 1.00000000e+00],\n",
              "       [4.13646913e-36, 2.37270393e-20, 1.00000000e+00],\n",
              "       [0.00000000e+00, 1.00000000e+00, 2.15680163e-09],\n",
              "       [0.00000000e+00, 1.28101372e-27, 1.00000000e+00],\n",
              "       [0.00000000e+00, 2.98842860e-11, 1.00000000e+00],\n",
              "       [2.07589501e-15, 1.98632889e-35, 1.00000000e+00],\n",
              "       [0.00000000e+00, 1.69344094e-05, 9.99983072e-01],\n",
              "       [0.00000000e+00, 1.00000000e+00, 2.13193935e-27],\n",
              "       [0.00000000e+00, 2.22529236e-23, 1.00000000e+00],\n",
              "       [0.00000000e+00, 5.05154766e-03, 9.94948387e-01],\n",
              "       [1.00000000e+00, 0.00000000e+00, 3.56120730e-15]], dtype=float32)"
            ]
          },
          "metadata": {},
          "execution_count": 26
        }
      ]
    },
    {
      "cell_type": "code",
      "metadata": {
        "id": "jZtkleTGuhvu"
      },
      "source": [
        "import numpy as np\n",
        "y_pred = np.argmax(y_pred, axis=1)"
      ],
      "execution_count": null,
      "outputs": []
    },
    {
      "cell_type": "code",
      "metadata": {
        "colab": {
          "base_uri": "https://localhost:8080/"
        },
        "id": "eGxKRDG1uhyg",
        "outputId": "368d4c33-850e-4776-911d-aee64b373649"
      },
      "source": [
        "y_pred"
      ],
      "execution_count": null,
      "outputs": [
        {
          "output_type": "execute_result",
          "data": {
            "text/plain": [
              "array([2, 1, 2, 2, 2, 1, 2, 2, 1, 2, 2, 2, 2, 2, 2, 2, 2, 2, 0, 2, 2, 2,\n",
              "       2, 2, 2, 2, 0, 0, 2, 2, 2, 2, 2, 2, 2, 2, 2, 0, 2, 2, 2, 0, 2, 0,\n",
              "       0, 0, 1, 0, 1, 2, 2, 0, 2, 2, 2, 2, 2, 0, 2, 1, 2, 2, 0, 2, 2, 2,\n",
              "       2, 2, 2, 2, 0, 2, 2, 2, 2, 2, 1, 0, 2, 2, 2, 2, 2, 0, 0, 2, 2, 2,\n",
              "       2, 0, 1, 1, 2, 1, 2, 2, 1, 2, 2, 2, 2, 1, 2, 0, 0, 2, 2, 0, 2, 2,\n",
              "       2, 2, 2, 1, 2, 2, 2, 2, 0, 2, 2, 2, 2, 2, 0, 2, 2, 2, 2, 2, 2, 1,\n",
              "       2, 2, 2, 0, 2, 2, 2, 2, 2, 2, 2, 0, 2, 2, 2, 2, 2, 1, 2, 2, 2, 2,\n",
              "       1, 2, 2, 0])"
            ]
          },
          "metadata": {},
          "execution_count": 28
        }
      ]
    },
    {
      "cell_type": "code",
      "metadata": {
        "id": "6Hiy7EX1uh1R"
      },
      "source": [
        "label = validation_generator.classes"
      ],
      "execution_count": null,
      "outputs": []
    },
    {
      "cell_type": "code",
      "metadata": {
        "colab": {
          "base_uri": "https://localhost:8080/"
        },
        "id": "hRsZUWSwuh3-",
        "outputId": "21ab1162-a8b7-4823-8056-82d1171e3bda"
      },
      "source": [
        "from sklearn.metrics import confusion_matrix\n",
        "\n",
        "cf = confusion_matrix(y_pred,label)\n",
        "cf"
      ],
      "execution_count": null,
      "outputs": [
        {
          "output_type": "execute_result",
          "data": {
            "text/plain": [
              "array([[12,  8,  5],\n",
              "       [ 6,  6,  4],\n",
              "       [50, 26, 41]])"
            ]
          },
          "metadata": {},
          "execution_count": 30
        }
      ]
    },
    {
      "cell_type": "code",
      "metadata": {
        "colab": {
          "base_uri": "https://localhost:8080/",
          "height": 204
        },
        "id": "1jW8Ckpyuh7F",
        "outputId": "6e4c3a3d-72f9-4f75-cae3-12029c35c6fa"
      },
      "source": [
        "import pandas as pd\n",
        "exp_series = pd.Series(label)\n",
        "pred_series = pd.Series(y_pred)\n",
        "pd.crosstab(exp_series, pred_series, rownames=['Actual'], colnames=['Predicted'],margins=True)"
      ],
      "execution_count": null,
      "outputs": [
        {
          "output_type": "execute_result",
          "data": {
            "text/html": [
              "<div>\n",
              "<style scoped>\n",
              "    .dataframe tbody tr th:only-of-type {\n",
              "        vertical-align: middle;\n",
              "    }\n",
              "\n",
              "    .dataframe tbody tr th {\n",
              "        vertical-align: top;\n",
              "    }\n",
              "\n",
              "    .dataframe thead th {\n",
              "        text-align: right;\n",
              "    }\n",
              "</style>\n",
              "<table border=\"1\" class=\"dataframe\">\n",
              "  <thead>\n",
              "    <tr style=\"text-align: right;\">\n",
              "      <th>Predicted</th>\n",
              "      <th>0</th>\n",
              "      <th>1</th>\n",
              "      <th>2</th>\n",
              "      <th>All</th>\n",
              "    </tr>\n",
              "    <tr>\n",
              "      <th>Actual</th>\n",
              "      <th></th>\n",
              "      <th></th>\n",
              "      <th></th>\n",
              "      <th></th>\n",
              "    </tr>\n",
              "  </thead>\n",
              "  <tbody>\n",
              "    <tr>\n",
              "      <th>0</th>\n",
              "      <td>12</td>\n",
              "      <td>6</td>\n",
              "      <td>50</td>\n",
              "      <td>68</td>\n",
              "    </tr>\n",
              "    <tr>\n",
              "      <th>1</th>\n",
              "      <td>8</td>\n",
              "      <td>6</td>\n",
              "      <td>26</td>\n",
              "      <td>40</td>\n",
              "    </tr>\n",
              "    <tr>\n",
              "      <th>2</th>\n",
              "      <td>5</td>\n",
              "      <td>4</td>\n",
              "      <td>41</td>\n",
              "      <td>50</td>\n",
              "    </tr>\n",
              "    <tr>\n",
              "      <th>All</th>\n",
              "      <td>25</td>\n",
              "      <td>16</td>\n",
              "      <td>117</td>\n",
              "      <td>158</td>\n",
              "    </tr>\n",
              "  </tbody>\n",
              "</table>\n",
              "</div>"
            ],
            "text/plain": [
              "Predicted   0   1    2  All\n",
              "Actual                     \n",
              "0          12   6   50   68\n",
              "1           8   6   26   40\n",
              "2           5   4   41   50\n",
              "All        25  16  117  158"
            ]
          },
          "metadata": {},
          "execution_count": 31
        }
      ]
    },
    {
      "cell_type": "code",
      "metadata": {
        "colab": {
          "base_uri": "https://localhost:8080/",
          "height": 258
        },
        "id": "K_8dD9wMpSZ1",
        "outputId": "e7926b47-997f-4f52-c3fc-a668ec9ce866"
      },
      "source": [
        "plt.matshow(cf)\n",
        "plt.title('Confusion Matrix Plot')\n",
        "plt.colorbar()\n",
        "plt.xlabel('Predicted')\n",
        "plt.ylabel('Actual')\n",
        "plt.show();"
      ],
      "execution_count": null,
      "outputs": [
        {
          "output_type": "display_data",
          "data": {
            "image/png": "[encoded data removed]",
            "text/plain": [
              "<Figure size 288x288 with 2 Axes>"
            ]
          },
          "metadata": {
            "needs_background": "light"
          }
        }
      ]
    },
    {
      "cell_type": "code",
      "metadata": {
        "id": "9EaabAhRuyXt"
      },
      "source": [
        "import numpy as np\n",
        "\n",
        "\n",
        "def plot_confusion_matrix(cm,\n",
        "                          target_names,\n",
        "                          title='Confusion matrix',\n",
        "                          cmap=None,\n",
        "                          normalize=True):\n",
        "    \n",
        "    import matplotlib.pyplot as plt\n",
        "    import numpy as np\n",
        "    import itertools\n",
        "\n",
        "    accuracy = np.trace(cm) / float(np.sum(cm))\n",
        "    misclass = 1 - accuracy\n",
        "\n",
        "    if cmap is None:\n",
        "        cmap = plt.get_cmap('Blues')\n",
        "\n",
        "    plt.figure(figsize=(8, 6))\n",
        "    plt.imshow(cm, interpolation='nearest', cmap=cmap)\n",
        "    plt.title(title)\n",
        "    plt.colorbar()\n",
        "\n",
        "    if target_names is not None:\n",
        "        tick_marks = np.arange(len(target_names))\n",
        "        plt.xticks(tick_marks, target_names, rotation=45)\n",
        "        plt.yticks(tick_marks, target_names)\n",
        "\n",
        "    if normalize:\n",
        "        cm = cm.astype('float') / cm.sum(axis=1)[:, np.newaxis]\n",
        "\n",
        "\n",
        "    thresh = cm.max() / 1.5 if normalize else cm.max() / 2\n",
        "    for i, j in itertools.product(range(cm.shape[0]), range(cm.shape[1])):\n",
        "        if normalize:\n",
        "            plt.text(j, i, \"{:0.4f}\".format(cm[i, j]),\n",
        "                     horizontalalignment=\"center\",\n",
        "                     color=\"white\" if cm[i, j] > thresh else \"black\")\n",
        "        else:\n",
        "            plt.text(j, i, \"{:,}\".format(cm[i, j]),\n",
        "                     horizontalalignment=\"center\",\n",
        "                     color=\"white\" if cm[i, j] > thresh else \"black\")\n",
        "\n",
        "\n",
        "    plt.tight_layout()\n",
        "    plt.ylabel('True label')\n",
        "    plt.xlabel('Predicted label\\naccuracy={:0.4f}; misclass={:0.4f}'.format(accuracy, misclass))\n",
        "    plt.show()"
      ],
      "execution_count": null,
      "outputs": []
    },
    {
      "cell_type": "code",
      "metadata": {
        "colab": {
          "base_uri": "https://localhost:8080/",
          "height": 467
        },
        "id": "rhfnkKdruycG",
        "outputId": "70f4571c-94c0-49a9-daa7-9308af3aac99"
      },
      "source": [
        "plot_confusion_matrix(cm           = np.array([[ 11,  8,   7],\n",
        "                                              [  4,  1,  1],\n",
        "                                              [  53,  31, 42]]), \n",
        "                      normalize    = False,\n",
        "                      target_names = ['Covid-19', 'No_findings', 'Pneumonia'],\n",
        "                      title        = \"Confusion Matrix\")"
      ],
      "execution_count": null,
      "outputs": [
        {
          "output_type": "display_data",
          "data": {
            "image/png": "[encoded data removed]",
            "text/plain": [
              "<Figure size 576x432 with 2 Axes>"
            ]
          },
          "metadata": {
            "needs_background": "light"
          }
        }
      ]
    },
    {
      "cell_type": "code",
      "metadata": {
        "colab": {
          "base_uri": "https://localhost:8080/"
        },
        "id": "9rgskDRuuyff",
        "outputId": "97463fc2-68de-48fe-b952-8cd28943aae9"
      },
      "source": [
        "from sklearn.metrics import confusion_matrix\n",
        "confusion_matrix(y_pred,label)"
      ],
      "execution_count": null,
      "outputs": [
        {
          "output_type": "execute_result",
          "data": {
            "text/plain": [
              "array([[12,  8,  5],\n",
              "       [ 6,  6,  4],\n",
              "       [50, 26, 41]])"
            ]
          },
          "metadata": {},
          "execution_count": 35
        }
      ]
    },
    {
      "cell_type": "code",
      "metadata": {
        "colab": {
          "base_uri": "https://localhost:8080/"
        },
        "id": "pAL3EmhmuyjG",
        "outputId": "ef3ceb0b-cc2e-4fdb-86d9-2e1596161c14"
      },
      "source": [
        "from sklearn.metrics import accuracy_score\n",
        "accuracy_score(y_pred,label)"
      ],
      "execution_count": null,
      "outputs": [
        {
          "output_type": "execute_result",
          "data": {
            "text/plain": [
              "0.37341772151898733"
            ]
          },
          "metadata": {},
          "execution_count": 36
        }
      ]
    },
    {
      "cell_type": "code",
      "metadata": {
        "colab": {
          "base_uri": "https://localhost:8080/"
        },
        "id": "MLRtvPGDpSc_",
        "outputId": "f0762657-f275-49e3-bdfc-e2637cd00aa4"
      },
      "source": [
        "from sklearn.metrics import recall_score\n",
        "recall_score(y_pred, label, average=None)"
      ],
      "execution_count": null,
      "outputs": [
        {
          "output_type": "execute_result",
          "data": {
            "text/plain": [
              "array([0.48      , 0.375     , 0.35042735])"
            ]
          },
          "metadata": {},
          "execution_count": 37
        }
      ]
    },
    {
      "cell_type": "code",
      "metadata": {
        "colab": {
          "base_uri": "https://localhost:8080/"
        },
        "id": "HcyWfDVlnqYd",
        "outputId": "3ec300bf-b1c4-4e62-e7aa-76c7f4ecf17b"
      },
      "source": [
        "from sklearn.metrics import precision_score\n",
        "precision_score(y_pred, label, average=None)"
      ],
      "execution_count": null,
      "outputs": [
        {
          "output_type": "execute_result",
          "data": {
            "text/plain": [
              "array([0.17647059, 0.15      , 0.82      ])"
            ]
          },
          "metadata": {},
          "execution_count": 38
        }
      ]
    },
    {
      "cell_type": "code",
      "metadata": {
        "colab": {
          "base_uri": "https://localhost:8080/"
        },
        "id": "dEwsIqyOvMgW",
        "outputId": "5982c0e4-6f44-4b65-8a34-1ff8ffb260d3"
      },
      "source": [
        "from sklearn.metrics import f1_score\n",
        "f1_score(y_pred, label, average=None)"
      ],
      "execution_count": null,
      "outputs": [
        {
          "output_type": "execute_result",
          "data": {
            "text/plain": [
              "array([0.25806452, 0.21428571, 0.49101796])"
            ]
          },
          "metadata": {},
          "execution_count": 39
        }
      ]
    },
    {
      "cell_type": "code",
      "metadata": {
        "colab": {
          "base_uri": "https://localhost:8080/"
        },
        "id": "xuxIhYrXvMi9",
        "outputId": "506d1722-d464-4491-cad5-5078b39980c5"
      },
      "source": [
        "from sklearn.metrics import classification_report\n",
        "print(classification_report(y_pred, label))"
      ],
      "execution_count": null,
      "outputs": [
        {
          "output_type": "stream",
          "name": "stdout",
          "text": [
            "              precision    recall  f1-score   support\n",
            "\n",
            "           0       0.18      0.48      0.26        25\n",
            "           1       0.15      0.38      0.21        16\n",
            "           2       0.82      0.35      0.49       117\n",
            "\n",
            "    accuracy                           0.37       158\n",
            "   macro avg       0.38      0.40      0.32       158\n",
            "weighted avg       0.65      0.37      0.43       158\n",
            "\n"
          ]
        }
      ]
    },
    {
      "cell_type": "code",
      "metadata": {
        "id": "R9Y7kTOm6mis",
        "colab": {
          "base_uri": "https://localhost:8080/",
          "height": 203
        },
        "outputId": "d1b6e804-d4bd-488e-92c5-8f81c38e8a5f"
      },
      "source": [
        "from sklearn.model_selection import train_test_split\n",
        "\n",
        "y_train, y_test = train_test_split(test_size=0.30, random_state=1, stratify=y)"
      ],
      "execution_count": null,
      "outputs": [
        {
          "output_type": "error",
          "ename": "NameError",
          "evalue": "ignored",
          "traceback": [
            "\u001b[0;31m---------------------------------------------------------------------------\u001b[0m",
            "\u001b[0;31mNameError\u001b[0m                                 Traceback (most recent call last)",
            "\u001b[0;32m<ipython-input-62-0d426c4716ef>\u001b[0m in \u001b[0;36m<module>\u001b[0;34m()\u001b[0m\n\u001b[1;32m      1\u001b[0m \u001b[0;32mfrom\u001b[0m \u001b[0msklearn\u001b[0m\u001b[0;34m.\u001b[0m\u001b[0mmodel_selection\u001b[0m \u001b[0;32mimport\u001b[0m \u001b[0mtrain_test_split\u001b[0m\u001b[0;34m\u001b[0m\u001b[0;34m\u001b[0m\u001b[0m\n\u001b[1;32m      2\u001b[0m \u001b[0;34m\u001b[0m\u001b[0m\n\u001b[0;32m----> 3\u001b[0;31m \u001b[0my_train\u001b[0m\u001b[0;34m,\u001b[0m \u001b[0my_test\u001b[0m \u001b[0;34m=\u001b[0m \u001b[0mtrain_test_split\u001b[0m\u001b[0;34m(\u001b[0m\u001b[0mtest_size\u001b[0m\u001b[0;34m=\u001b[0m\u001b[0;36m0.30\u001b[0m\u001b[0;34m,\u001b[0m \u001b[0mrandom_state\u001b[0m\u001b[0;34m=\u001b[0m\u001b[0;36m1\u001b[0m\u001b[0;34m,\u001b[0m \u001b[0mstratify\u001b[0m\u001b[0;34m=\u001b[0m\u001b[0my\u001b[0m\u001b[0;34m)\u001b[0m\u001b[0;34m\u001b[0m\u001b[0;34m\u001b[0m\u001b[0m\n\u001b[0m",
            "\u001b[0;31mNameError\u001b[0m: name 'y' is not defined"
          ]
        }
      ]
    },
    {
      "cell_type": "code",
      "metadata": {
        "id": "JthFtqugvM1V",
        "colab": {
          "base_uri": "https://localhost:8080/",
          "height": 238
        },
        "outputId": "f063e39d-4c66-41b2-8316-3d4f5827dbe7"
      },
      "source": [
        "from sklearn.preprocessing import StandardScaler\n",
        "from sklearn.svm import SVC\n",
        "from sklearn.metrics import confusion_matrix\n",
        "from sklearn.metrics import precision_score, recall_score, f1_score, accuracy_score\n",
        "import matplotlib.pyplot as plt\n",
        "#\n",
        "# Standardize the data set\n",
        "#\n",
        "sc = StandardScaler()\n",
        "sc.fit(X_train)\n",
        "X_train_std = sc.transform(X_train)\n",
        "X_test_std = sc.transform(X_test)\n",
        "#\n",
        "# Fit the SVC model\n",
        "#\n",
        "svc = SVC(kernel='linear', C=10.0, random_state=1)\n",
        "svc.fit(X_train, y_train)\n",
        "#\n",
        "# Get the predictions\n",
        "#\n",
        "y_pred = svc.predict(X_test)\n",
        "#\n",
        "# Calculate the confusion matrix\n",
        "#\n",
        "conf_matrix = confusion_matrix(y_true=y_test, y_pred=y_pred)\n",
        "#\n",
        "# Print the confusion matrix using Matplotlib\n",
        "#\n",
        "fig, ax = plt.subplots(figsize=(5, 5))\n",
        "ax.matshow(conf_matrix, cmap=plt.cm.Oranges, alpha=0.3)\n",
        "for i in range(conf_matrix.shape[0]):\n",
        "    for j in range(conf_matrix.shape[1]):\n",
        "        ax.text(x=j, y=i,s=conf_matrix[i, j], va='center', ha='center', size='xx-large')\n",
        " \n",
        "plt.xlabel('Predictions', fontsize=18)\n",
        "plt.ylabel('Actuals', fontsize=18)\n",
        "plt.title('Confusion Matrix', fontsize=18)\n",
        "plt.show()"
      ],
      "execution_count": null,
      "outputs": [
        {
          "output_type": "error",
          "ename": "NameError",
          "evalue": "ignored",
          "traceback": [
            "\u001b[0;31m---------------------------------------------------------------------------\u001b[0m",
            "\u001b[0;31mNameError\u001b[0m                                 Traceback (most recent call last)",
            "\u001b[0;32m<ipython-input-53-fc334ab9f499>\u001b[0m in \u001b[0;36m<module>\u001b[0;34m()\u001b[0m\n\u001b[1;32m      8\u001b[0m \u001b[0;31m#\u001b[0m\u001b[0;34m\u001b[0m\u001b[0;34m\u001b[0m\u001b[0;34m\u001b[0m\u001b[0m\n\u001b[1;32m      9\u001b[0m \u001b[0msc\u001b[0m \u001b[0;34m=\u001b[0m \u001b[0mStandardScaler\u001b[0m\u001b[0;34m(\u001b[0m\u001b[0;34m)\u001b[0m\u001b[0;34m\u001b[0m\u001b[0;34m\u001b[0m\u001b[0m\n\u001b[0;32m---> 10\u001b[0;31m \u001b[0msc\u001b[0m\u001b[0;34m.\u001b[0m\u001b[0mfit\u001b[0m\u001b[0;34m(\u001b[0m\u001b[0mX_train\u001b[0m\u001b[0;34m)\u001b[0m\u001b[0;34m\u001b[0m\u001b[0;34m\u001b[0m\u001b[0m\n\u001b[0m\u001b[1;32m     11\u001b[0m \u001b[0mX_train_std\u001b[0m \u001b[0;34m=\u001b[0m \u001b[0msc\u001b[0m\u001b[0;34m.\u001b[0m\u001b[0mtransform\u001b[0m\u001b[0;34m(\u001b[0m\u001b[0mX_train\u001b[0m\u001b[0;34m)\u001b[0m\u001b[0;34m\u001b[0m\u001b[0;34m\u001b[0m\u001b[0m\n\u001b[1;32m     12\u001b[0m \u001b[0mX_test_std\u001b[0m \u001b[0;34m=\u001b[0m \u001b[0msc\u001b[0m\u001b[0;34m.\u001b[0m\u001b[0mtransform\u001b[0m\u001b[0;34m(\u001b[0m\u001b[0mX_test\u001b[0m\u001b[0;34m)\u001b[0m\u001b[0;34m\u001b[0m\u001b[0;34m\u001b[0m\u001b[0m\n",
            "\u001b[0;31mNameError\u001b[0m: name 'X_train' is not defined"
          ]
        }
      ]
    },
    {
      "cell_type": "code",
      "metadata": {
        "id": "m2gG41OGvM4V"
      },
      "source": [
        ""
      ],
      "execution_count": null,
      "outputs": []
    },
    {
      "cell_type": "code",
      "metadata": {
        "id": "KuyIehMGvM7r"
      },
      "source": [
        ""
      ],
      "execution_count": null,
      "outputs": []
    },
    {
      "cell_type": "code",
      "metadata": {
        "id": "apgA1BWLvM-I"
      },
      "source": [
        ""
      ],
      "execution_count": null,
      "outputs": []
    },
    {
      "cell_type": "code",
      "metadata": {
        "id": "OJlTeG_8vNBu"
      },
      "source": [
        ""
      ],
      "execution_count": null,
      "outputs": []
    },
    {
      "cell_type": "code",
      "metadata": {
        "id": "Ga5dgbRunqbV"
      },
      "source": [
        ""
      ],
      "execution_count": null,
      "outputs": []
    }
  ]
}